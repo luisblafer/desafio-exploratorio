{
 "cells": [
  {
   "cell_type": "code",
   "execution_count": null,
   "id": "authentic-friendly",
   "metadata": {},
   "outputs": [],
   "source": [
    "import pandas as pd\n",
    "import numpy as np\n",
    "from funciones import *\n",
    "\n",
    "# Configuracion de display de DataFrames en Jupyter\n",
    "pd.options.display.max_columns = None\n",
    "\n",
    "# Localizacion del .CSV del dataset\n",
    "data_location_raw = './datasets/properatti.csv'\n",
    "\n",
    "# Localizacion del .CSV donde enviaremos los datos limpios\n",
    "data_location_clean = './datasets/properatti_clean.csv'\n",
    "\n",
    "# Hacemos la importación del dataframe clean\n",
    "raw_data = pd.read_csv(data_location_raw, index_col=0)\n",
    "\n",
    "# Copiamos el dataframe a otro para tener una copia literal del mismo\n",
    "data = raw_data.copy()\n",
    "\n",
    "# Forma de resetear el index del dataframe si no se usa el index_col=0\n",
    "## data_default.reset_index(drop=True, inplace=True)\n",
    "## data_str.index"
   ]
  },
  {
   "cell_type": "markdown",
   "id": "false-february",
   "metadata": {},
   "source": [
    "Información del DataFrame RAW que hemos importado"
   ]
  },
  {
   "cell_type": "code",
   "execution_count": null,
   "id": "reflected-tragedy",
   "metadata": {},
   "outputs": [],
   "source": [
    "raw_data.info()"
   ]
  },
  {
   "cell_type": "markdown",
   "id": "subsequent-vatican",
   "metadata": {},
   "source": [
    "Información del DataFrame que vamos a utilizar para nuestro análisis"
   ]
  },
  {
   "cell_type": "code",
   "execution_count": null,
   "id": "ethical-affect",
   "metadata": {},
   "outputs": [],
   "source": [
    "data.info()"
   ]
  },
  {
   "cell_type": "markdown",
   "id": "tracked-nomination",
   "metadata": {},
   "source": [
    "Dataset\n",
    "\n",
    "#Completar con nombre de campo y tipo de dato"
   ]
  },
  {
   "cell_type": "markdown",
   "id": "sufficient-astrology",
   "metadata": {},
   "source": [
    "### Sumario inicial de datos faltantes"
   ]
  },
  {
   "cell_type": "code",
   "execution_count": null,
   "id": "opening-cover",
   "metadata": {},
   "outputs": [],
   "source": [
    "missing_zero_values_table(data)"
   ]
  },
  {
   "cell_type": "code",
   "execution_count": null,
   "id": "attempted-knock",
   "metadata": {},
   "outputs": [],
   "source": [
    "data.head(10)"
   ]
  },
  {
   "cell_type": "code",
   "execution_count": null,
   "id": "automatic-shopper",
   "metadata": {},
   "outputs": [],
   "source": []
  },
  {
   "cell_type": "markdown",
   "id": "acoustic-portuguese",
   "metadata": {},
   "source": [
    "### Análisis del campo _description_"
   ]
  },
  {
   "cell_type": "code",
   "execution_count": null,
   "id": "intensive-reunion",
   "metadata": {},
   "outputs": [],
   "source": [
    "mask_description_isnull = data['description'].isnull()\n",
    "\n",
    "print(f\"Cantidad de observaciones sin descripción: {mask_description_isnull.sum()}\")\n",
    "\n",
    "data.loc[mask_description_isnull, 'description'] = '-'\n",
    "\n",
    "missing_zero_values_table(data)"
   ]
  },
  {
   "cell_type": "code",
   "execution_count": null,
   "id": "skilled-palestinian",
   "metadata": {},
   "outputs": [],
   "source": [
    "data.head(10)"
   ]
  },
  {
   "cell_type": "markdown",
   "id": "necessary-ability",
   "metadata": {},
   "source": [
    "### Análisis de la variable _operation_"
   ]
  },
  {
   "cell_type": "code",
   "execution_count": null,
   "id": "specified-flush",
   "metadata": {},
   "outputs": [],
   "source": [
    "data['operation'].value_counts()"
   ]
  },
  {
   "cell_type": "markdown",
   "id": "governmental-upper",
   "metadata": {},
   "source": [
    "Todas las propiedades son para la venta, lo cual representa una categoría única."
   ]
  },
  {
   "cell_type": "code",
   "execution_count": null,
   "id": "satisfactory-canada",
   "metadata": {},
   "outputs": [],
   "source": [
    "data['operation'] = data['operation'].astype('category')\n",
    "data['operation'].dtype"
   ]
  },
  {
   "cell_type": "markdown",
   "id": "alone-temple",
   "metadata": {},
   "source": [
    "### Análisis de la variable _property_type_"
   ]
  },
  {
   "cell_type": "code",
   "execution_count": null,
   "id": "secondary-protocol",
   "metadata": {},
   "outputs": [],
   "source": [
    "data['property_type'].value_counts()"
   ]
  },
  {
   "cell_type": "markdown",
   "id": "communist-coalition",
   "metadata": {},
   "source": [
    "Observamos que tiene tiene cuatro posibles opciones por lo cual la cambiamos a categórica."
   ]
  },
  {
   "cell_type": "code",
   "execution_count": null,
   "id": "imported-softball",
   "metadata": {},
   "outputs": [],
   "source": [
    "data['property_type'] = data['property_type'].astype('category')\n",
    "data['property_type'].dtype"
   ]
  },
  {
   "cell_type": "markdown",
   "id": "complicated-attempt",
   "metadata": {},
   "source": [
    "### Análisis de la variable _place_name_"
   ]
  },
  {
   "cell_type": "code",
   "execution_count": null,
   "id": "anticipated-tracy",
   "metadata": {},
   "outputs": [],
   "source": [
    "data['place_name'].value_counts()"
   ]
  },
  {
   "cell_type": "markdown",
   "id": "bacterial-warrior",
   "metadata": {},
   "source": [
    "Haciendo un análisis de las 23 observaciones que no tienen 'place_name', observamos que las mismas pertenecen al barrio de Rincón de Mimberg, y hay observaciones que tienen las mismas características para descripciones similares. Sumado a que geográficamente las descripciones apuntan a que se encuentran en barrios cerrados ó courtries en dicha ubicación."
   ]
  },
  {
   "cell_type": "code",
   "execution_count": null,
   "id": "powered-quantity",
   "metadata": {},
   "outputs": [],
   "source": [
    "mask_data_place_name_isnull = data['place_name'].isnull()\n",
    "data_place_name_null = data.loc[mask_data_place_name_isnull]\n",
    "data_place_name_null.head(5)"
   ]
  },
  {
   "cell_type": "code",
   "execution_count": null,
   "id": "indian-cornwall",
   "metadata": {},
   "outputs": [],
   "source": [
    "data[data['place_name'].str.contains('Rincón de Milberg',na=False)].head(5)"
   ]
  },
  {
   "cell_type": "markdown",
   "id": "hazardous-arrow",
   "metadata": {},
   "source": [
    "Por este motivo imputamos a los datos faltantes con Rincón de Milberg, ajustando al mismo tiempo el campo place_with_parent_names para que sea consistente con la información del dataset."
   ]
  },
  {
   "cell_type": "code",
   "execution_count": null,
   "id": "north-meaning",
   "metadata": {},
   "outputs": [],
   "source": [
    "#data['place_name_check'] = data['place_name']\n",
    "#data['place_with_parent_names_check'] = data['place_with_parent_names']\n",
    "\n",
    "data.loc[mask_data_place_name_isnull,['place_name','place_with_parent_names']] = \\\n",
    "    ['Rincón de Milberg','|Argentina|Bs.As. G.B.A. Zona Norte|Tigre|Rincón de Milberg|']\n",
    "data.head(5)"
   ]
  },
  {
   "cell_type": "markdown",
   "id": "established-volume",
   "metadata": {},
   "source": [
    "Detectamos que existe un place_name que está cargado con coordenadas en lugar de nombre"
   ]
  },
  {
   "cell_type": "code",
   "execution_count": null,
   "id": "dated-calvin",
   "metadata": {},
   "outputs": [],
   "source": [
    "data[data['place_name'].str.contains('coor',na=False)]"
   ]
  },
  {
   "cell_type": "markdown",
   "id": "relevant-consolidation",
   "metadata": {},
   "source": [
    "Observando en Google Maps vemos que también es el barrio Rincon de Milberg, con lo cual volvemos a ejecutar la operación anterior, pero con esta nueva máscara."
   ]
  },
  {
   "cell_type": "code",
   "execution_count": null,
   "id": "mighty-spread",
   "metadata": {},
   "outputs": [],
   "source": [
    "data.loc[data['place_name'].str.contains('coor',na=False),['place_name','place_with_parent_names']] = \\\n",
    "    ['Rincón de Milberg','|Argentina|Bs.As. G.B.A. Zona Norte|Tigre|Rincón de Milberg|']\n",
    "data"
   ]
  },
  {
   "cell_type": "markdown",
   "id": "sought-macro",
   "metadata": {},
   "source": [
    "### Análisis de la variable _country_name_"
   ]
  },
  {
   "cell_type": "code",
   "execution_count": null,
   "id": "durable-genesis",
   "metadata": {},
   "outputs": [],
   "source": [
    "data['country_name'].value_counts()"
   ]
  },
  {
   "cell_type": "markdown",
   "id": "massive-installation",
   "metadata": {},
   "source": [
    "No es necesario realizar ningún tipo de ajuste en esta variable. Vemos que todas las propiedades son en Argentina."
   ]
  },
  {
   "cell_type": "markdown",
   "id": "biological-restriction",
   "metadata": {},
   "source": [
    "### Análisis de la variable _state_name_"
   ]
  },
  {
   "cell_type": "code",
   "execution_count": null,
   "id": "religious-aaron",
   "metadata": {},
   "outputs": [],
   "source": [
    "data['state_name'].value_counts()"
   ]
  },
  {
   "cell_type": "markdown",
   "id": "determined-integrity",
   "metadata": {},
   "source": [
    "No es necesario realizar ningún tipo de ajuste en esta variable. Observamos que la provinicia de Buenos Aires ha sido dividida en regiones geográficas, a diferencia del resto de las provincias."
   ]
  },
  {
   "cell_type": "code",
   "execution_count": null,
   "id": "subsequent-member",
   "metadata": {},
   "outputs": [],
   "source": [
    "missing_zero_values_table(data)"
   ]
  },
  {
   "cell_type": "markdown",
   "id": "executed-explorer",
   "metadata": {},
   "source": [
    "### Exportación de datos limpios"
   ]
  },
  {
   "cell_type": "code",
   "execution_count": null,
   "id": "unexpected-diagnosis",
   "metadata": {},
   "outputs": [],
   "source": [
    "data.to_csv(data_location_clean)"
   ]
  }
 ],
 "metadata": {
  "kernelspec": {
   "display_name": "Python [conda env:dhdsblend2021] *",
   "language": "python",
   "name": "conda-env-dhdsblend2021-py"
  },
  "language_info": {
   "codemirror_mode": {
    "name": "ipython",
    "version": 3
   },
   "file_extension": ".py",
   "mimetype": "text/x-python",
   "name": "python",
   "nbconvert_exporter": "python",
   "pygments_lexer": "ipython3",
   "version": "3.8.5"
  }
 },
 "nbformat": 4,
 "nbformat_minor": 5
}
