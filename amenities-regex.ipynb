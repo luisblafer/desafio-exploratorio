{
 "cells": [
  {
   "cell_type": "code",
   "execution_count": null,
   "id": "respective-drain",
   "metadata": {},
   "outputs": [],
   "source": [
    "import pandas as pd\n",
    "import numpy as np\n",
    "from funciones import *\n",
    "\n",
    "# Configuracion de display de DataFrames en Jupyter\n",
    "pd.options.display.max_columns = None\n",
    "\n",
    "# Localizacion del .CSV del dataset\n",
    "data_location_raw = './datasets/properatti.csv'\n",
    "\n",
    "# Localizacion del .CSV donde enviaremos los datos limpios\n",
    "data_location_clean = './datasets/properatti_clean.csv'\n",
    "\n",
    "# Hacemos la importación del dataframe clean\n",
    "raw_data = pd.read_csv(data_location_raw, index_col=0)\n",
    "\n",
    "# Copiamos el dataframe a otro para tener una copia literal del mismo\n",
    "data = raw_data.copy()\n",
    "\n",
    "# Forma de resetear el index del dataframe si no se usa el index_col=0\n",
    "## data_default.reset_index(drop=True, inplace=True)\n",
    "## data_str.index"
   ]
  },
  {
   "cell_type": "code",
   "execution_count": null,
   "id": "olympic-credit",
   "metadata": {},
   "outputs": [],
   "source": []
  },
  {
   "cell_type": "code",
   "execution_count": null,
   "id": "israeli-fantasy",
   "metadata": {},
   "outputs": [],
   "source": [
    "data.head()"
   ]
  },
  {
   "cell_type": "code",
   "execution_count": null,
   "id": "lined-thursday",
   "metadata": {},
   "outputs": [],
   "source": []
  },
  {
   "cell_type": "code",
   "execution_count": null,
   "id": "exempt-audience",
   "metadata": {},
   "outputs": [],
   "source": [
    "# Vamos a buscar los amenities y crear columnas que lo describan.\n",
    "import re\n",
    "\n",
    "pattern = 'terraza'\n",
    "pattern_regex = re.compile(pattern, flags=re.IGNORECASE)\n",
    "\n",
    "mask_title = data.title.str.contains(pattern_regex)\n",
    "mask_description = data.description.str.contains(pattern_regex)\n",
    "mask_combinada = mask_title | mask_description\n",
    "\n",
    "print(f\"Cantidad de ocurrencias del patrón en el título: {mask_title.sum()}.\")\n",
    "print(f\"Cantidad de ocurrencias del patrón en la descripción: {mask_description.sum()}.\")\n",
    "print(f\"Cantidad de ocurrencias del patrón combinadas: {mask_combinada.sum()}.\")"
   ]
  },
  {
   "cell_type": "markdown",
   "id": "addressed-waste",
   "metadata": {},
   "source": [
    "Armamos un diccionario para tener todos los patrones organizados en un único lugar, y poder expandirlo si detectamos nuevos de manera veloz y sencilla."
   ]
  },
  {
   "cell_type": "code",
   "execution_count": null,
   "id": "medieval-potter",
   "metadata": {},
   "outputs": [],
   "source": [
    "amenities_dict = {1: {'name': 'amenities_terraza', 'pattern': 'terraza'},\n",
    "                  2: {'name': 'amenities_pileta', 'pattern': 'pileta|piscina'},\n",
    "                  3: {'name': 'amenities_cochera', 'pattern': 'cochera|garage'},\n",
    "                  4: {'name': 'amenities_sum', 'pattern': '\\ssum\\s'},\n",
    "                  5: {'name': 'amenities_jardin', 'pattern': 'patio|jardin'},\n",
    "                  6: {'name': 'amenities_seguridad', 'pattern': 'vigilancia|seguridad'},\n",
    "                  7: {'name': 'amenities_parrillero', 'pattern': 'parrilla|parrillero'}}"
   ]
  },
  {
   "cell_type": "code",
   "execution_count": null,
   "id": "bearing-israel",
   "metadata": {},
   "outputs": [],
   "source": []
  },
  {
   "cell_type": "markdown",
   "id": "backed-entry",
   "metadata": {},
   "source": [
    "Definimos una función que replique el trabajo que hicimos en el paso inicial para por reutilizarla de manera eficiente."
   ]
  },
  {
   "cell_type": "code",
   "execution_count": null,
   "id": "global-gibson",
   "metadata": {},
   "outputs": [],
   "source": [
    "import re\n",
    "\n",
    "def find_amenity(df, pattern):\n",
    "    pattern_regex = re.compile(pattern, flags=re.IGNORECASE)\n",
    "    mask_title = df.title.str.contains(pattern_regex)\n",
    "    mask_description = df.description.str.contains(pattern_regex)\n",
    "    mask_combinada = mask_title | mask_description\n",
    "    print(f\"Cantidad de ocurrencias del patrón - {pattern} - en el DataFrame: {mask_combinada.sum()}\")\n",
    "    return mask_combinada.astype(int)"
   ]
  },
  {
   "cell_type": "code",
   "execution_count": null,
   "id": "turkish-happiness",
   "metadata": {},
   "outputs": [],
   "source": []
  },
  {
   "cell_type": "markdown",
   "id": "similar-dream",
   "metadata": {},
   "source": [
    "Realizamos una iteración y agregamos al DataFrame las columnas de los amenities, siguiendo la siguiente lógica:\n",
    "- 1: Se detectó el patrón.\n",
    "- 0: No se detectó el patrón."
   ]
  },
  {
   "cell_type": "code",
   "execution_count": null,
   "id": "assisted-valley",
   "metadata": {},
   "outputs": [],
   "source": [
    "for item in amenities_dict.values():\n",
    "    data[item['name']] = find_amenity(data[['title','description']], item['pattern'])"
   ]
  },
  {
   "cell_type": "code",
   "execution_count": null,
   "id": "portuguese-incident",
   "metadata": {},
   "outputs": [],
   "source": []
  },
  {
   "cell_type": "code",
   "execution_count": null,
   "id": "abandoned-strengthening",
   "metadata": {},
   "outputs": [],
   "source": [
    "data.head()"
   ]
  },
  {
   "cell_type": "code",
   "execution_count": null,
   "id": "twelve-difficulty",
   "metadata": {},
   "outputs": [],
   "source": []
  }
 ],
 "metadata": {
  "kernelspec": {
   "display_name": "Python [conda env:dhdsblend2021] *",
   "language": "python",
   "name": "conda-env-dhdsblend2021-py"
  },
  "language_info": {
   "codemirror_mode": {
    "name": "ipython",
    "version": 3
   },
   "file_extension": ".py",
   "mimetype": "text/x-python",
   "name": "python",
   "nbconvert_exporter": "python",
   "pygments_lexer": "ipython3",
   "version": "3.8.5"
  }
 },
 "nbformat": 4,
 "nbformat_minor": 5
}
