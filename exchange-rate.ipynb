{
 "cells": [
  {
   "cell_type": "code",
   "execution_count": null,
   "id": "revised-bookmark",
   "metadata": {},
   "outputs": [],
   "source": [
    "import pandas as pd\n",
    "import numpy as np\n",
    "from funciones import *\n",
    "\n",
    "# Configuracion de display de DataFrames en Jupyter\n",
    "pd.options.display.max_columns = None\n",
    "\n",
    "# Localizacion del .CSV del dataset\n",
    "data_location_raw = './datasets/properatti.csv'\n",
    "\n",
    "# Localizacion del .CSV donde enviaremos los datos limpios\n",
    "data_location_clean = './datasets/properatti_clean.csv'\n",
    "\n",
    "# Hacemos la primera importacion de datos en un dataframe de raw_data\n",
    "raw_data = pd.read_csv(data_location_clean, index_col=0)\n",
    "\n",
    "# Copiamos el dataframe a otro para tener una copia literal del mismo\n",
    "data = raw_data.copy()\n",
    "\n",
    "# Forma de resetear el index del dataframe si no se usa el index_col=0\n",
    "## data_default.reset_index(drop=True, inplace=True)\n",
    "## data_str.index"
   ]
  },
  {
   "cell_type": "markdown",
   "id": "hairy-money",
   "metadata": {},
   "source": [
    "Información del DataFrame RAW que hemos importado"
   ]
  },
  {
   "cell_type": "code",
   "execution_count": null,
   "id": "radical-israel",
   "metadata": {},
   "outputs": [],
   "source": [
    "raw_data.info()"
   ]
  },
  {
   "cell_type": "markdown",
   "id": "liable-witch",
   "metadata": {},
   "source": [
    "Información del DataFrame que vamos a utilizar para nuestro análisis"
   ]
  },
  {
   "cell_type": "code",
   "execution_count": null,
   "id": "intermediate-safety",
   "metadata": {},
   "outputs": [],
   "source": [
    "data.info()"
   ]
  },
  {
   "cell_type": "markdown",
   "id": "deadly-shoulder",
   "metadata": {},
   "source": [
    "#### Máscaras para valores no nulos"
   ]
  },
  {
   "cell_type": "code",
   "execution_count": null,
   "id": "finnish-honolulu",
   "metadata": {},
   "outputs": [],
   "source": [
    "mask_price_notnull = data['price'].notnull()\n",
    "mask_currency_notnull = data['currency'].notnull()\n",
    "mask_price_aprox_local_currency_notnull = data['price_aprox_local_currency'].notnull()\n",
    "mask_price_aprox_usd_notnull = data['price_aprox_usd'].notnull()\n",
    "mask_surface_total_in_m2_notnull = data['surface_total_in_m2'].notnull()\n",
    "mask_surface_covered_in_m2_notnull = data['surface_covered_in_m2'].notnull()\n",
    "mask_price_usd_per_m2_notnull = data['price_usd_per_m2'].notnull()\n",
    "mask_price_per_m2_notnull = data['price_per_m2'].notnull()"
   ]
  },
  {
   "cell_type": "markdown",
   "id": "general-exposure",
   "metadata": {},
   "source": [
    "#### Máscaras para valores nulos"
   ]
  },
  {
   "cell_type": "code",
   "execution_count": null,
   "id": "irish-ocean",
   "metadata": {},
   "outputs": [],
   "source": [
    "mask_price_isnull = data['price'].isnull()\n",
    "mask_currency_isnull = data['currency'].isnull()\n",
    "mask_price_aprox_local_currency_isnull = data['price_aprox_local_currency'].isnull()\n",
    "mask_price_aprox_usd_isnull = data['price_aprox_usd'].isnull()\n",
    "mask_surface_total_in_m2_isnull = data['surface_total_in_m2'].isnull()\n",
    "mask_surface_covered_in_m2_isnull = data['surface_covered_in_m2'].isnull()\n",
    "mask_price_usd_per_m2_isnull = data['price_usd_per_m2'].isnull()\n",
    "mask_price_per_m2_isnull = data['price_per_m2'].isnull()"
   ]
  },
  {
   "cell_type": "markdown",
   "id": "fifty-exhaust",
   "metadata": {},
   "source": [
    "### Análisis de la cotización del dólar"
   ]
  },
  {
   "cell_type": "markdown",
   "id": "suitable-response",
   "metadata": {},
   "source": [
    "Buscaremos una cotización de cambio a dolar para imputar en aquellos registros donde no tengamos una tasa definida a partir de los valores de la tabla.\n",
    "\n",
    "El cálculo lo haremos a partir de las columnas de price y de price_aprox_in_usd"
   ]
  },
  {
   "cell_type": "code",
   "execution_count": null,
   "id": "dramatic-cooking",
   "metadata": {},
   "outputs": [],
   "source": [
    "#mask = mask_price_notnull & mask_price_aprox_usd_notnull\n",
    "#data_price_notnull = data[mask]\n",
    "\n",
    "cotizacion_USD_ARS_raw = data['price'] / data['price_aprox_usd']\n",
    "cotizacion_USD_ARS = cotizacion_USD_ARS_raw.dropna()\n",
    "\n",
    "print(f\"Cotizaciones de dolar: {len(cotizacion_USD_ARS.unique())}\")\n",
    "print(f\"Distribución de las cotizaciones del dolar:\\n{cotizacion_USD_ARS.value_counts()}\")\n",
    "#df_data = data\n",
    "#df_data['cotizacion'] = cotizacion_dolar\n",
    "#df_data['cotizacion'].isna().sum()"
   ]
  },
  {
   "cell_type": "code",
   "execution_count": null,
   "id": "hungry-soldier",
   "metadata": {},
   "outputs": [],
   "source": [
    "import seaborn as sns\n",
    "\n",
    "#cotizacion_dolar_cat = cotizacion_dolar.unique()\n",
    "#len(cotizacion_dolar_cat)\n",
    "#cotizacion_dolar_categorica = cotizacion_dolar.groupby(by=cotizacion_dolar_cat, axis=1)\n",
    "#cotizacion_dolar_categorica\n",
    "sns.displot(cotizacion_USD_ARS, kind=\"kde\")"
   ]
  },
  {
   "cell_type": "markdown",
   "id": "special-accordance",
   "metadata": {},
   "source": [
    "Observamos que hay una cotización en torno a 1, y otra a 17.5 por dolar, por lo cual intentaremos busacar las cotizaciones que se encuentren en un rago de +-0.5 de distancia."
   ]
  },
  {
   "cell_type": "code",
   "execution_count": null,
   "id": "surprising-persian",
   "metadata": {},
   "outputs": [],
   "source": [
    "mask_cotizacion_notnull = cotizacion_USD_ARS.notnull()\n",
    "\n",
    "mask_cotizacion_rango_0_1 = (cotizacion_USD_ARS >= 0.0) & (cotizacion_USD_ARS <= 1.0)\n",
    "mask_cotizacion_rango_17_18 = (cotizacion_USD_ARS >= 17.0) & (cotizacion_USD_ARS <= 18.0)\n",
    "\n",
    "mask_cotizacion_otras = mask_cotizacion_notnull & (~(mask_cotizacion_rango_0_1|mask_cotizacion_rango_17_18))\n",
    "\n",
    "\n",
    "\n",
    "print(f\"Observaciones con cotizaciones no nulas: {mask_cotizacion_notnull.sum()}.\\n\"\n",
    "      f\"Observaciones con cotizaciones rango 0 a 1: {mask_cotizacion_rango_0_1.sum()}.\\n\"\n",
    "      f\"Observaciones con cotizaciones rango 17 a 18: {mask_cotizacion_rango_17_18.sum()}.\\n\"\n",
    "      f\"Observaciones con otra cotizaciones: {mask_cotizacion_otras.sum()}.\\n\"\n",
    "      f\"Checksum cotizaciones: {mask_cotizacion_rango_0_1.sum()+mask_cotizacion_rango_17_18.sum()+mask_cotizacion_otras.sum()}.\\n\")"
   ]
  },
  {
   "cell_type": "code",
   "execution_count": null,
   "id": "rough-chorus",
   "metadata": {},
   "outputs": [],
   "source": [
    "# Descripción del dolar en cotizaciones en rango 0 a 1\n",
    "print(f\"Descripción cotizaciones en rago 0 a 1\\n\"\n",
    "      f\"{cotizacion_USD_ARS[mask_cotizacion_rango_0_1].describe()}\")"
   ]
  },
  {
   "cell_type": "code",
   "execution_count": null,
   "id": "cordless-hamilton",
   "metadata": {},
   "outputs": [],
   "source": [
    "# Descripción del dolar en cotizaciones en rango 17 a 18\n",
    "print(f\"Descripción cotizaciones en rago 17 a 18\\n\"\n",
    "      f\"{cotizacion_USD_ARS[mask_cotizacion_rango_17_18].describe()}\")"
   ]
  },
  {
   "cell_type": "code",
   "execution_count": null,
   "id": "wicked-server",
   "metadata": {},
   "outputs": [],
   "source": [
    "# Descripción del dolar en otras cotizaciones\n",
    "print(f\"Descripción otras cotizaciones\\n\"\n",
    "      f\"{cotizacion_USD_ARS[mask_cotizacion_otras].describe()}\")"
   ]
  },
  {
   "cell_type": "code",
   "execution_count": null,
   "id": "automatic-significance",
   "metadata": {},
   "outputs": [],
   "source": [
    "print(cotizacion_USD_ARS[mask_cotizacion_otras])"
   ]
  },
  {
   "cell_type": "markdown",
   "id": "biological-welding",
   "metadata": {},
   "source": [
    "Defino las cotizaciones de cambio que usaremos para posibles imputaciones en registros donde esté el faltante."
   ]
  },
  {
   "cell_type": "code",
   "execution_count": null,
   "id": "retired-desire",
   "metadata": {},
   "outputs": [],
   "source": [
    "exchage_rate_USD_ARS = cotizacion_USD_ARS[mask_cotizacion_rango_17_18].mean()\n",
    "\n",
    "exchage_rate_USD_PEN = cotizacion_USD_ARS[mask_cotizacion_otras & (data['currency']=='PEN')].mean()\n",
    "\n",
    "exchage_rate_USD_UYU = cotizacion_USD_ARS[mask_cotizacion_otras & (data['currency']=='UYU')].mean()\n"
   ]
  },
  {
   "cell_type": "markdown",
   "id": "bizarre-capital",
   "metadata": {},
   "source": [
    "Calculo del DataFram en el otro dentido de la cotización"
   ]
  },
  {
   "cell_type": "code",
   "execution_count": null,
   "id": "incredible-valentine",
   "metadata": {},
   "outputs": [],
   "source": [
    "cotizacion_ARS_USD_raw = data['price_aprox_usd'] / data['price']\n",
    "cotizacion_ARS_USD_raw"
   ]
  },
  {
   "cell_type": "markdown",
   "id": "differential-hostel",
   "metadata": {},
   "source": [
    "#### Hipótesis 1\n",
    "\n",
    "Aquí ponemos como hipótesis que existe una realación lineal entre las variables price, surface_covered_in_m2, price_per_m2:\n",
    "\n",
    "$$ \\text{price} = \\text{surface_covered_in_m2} \\cdot \\text{price_per_m2}$$\n",
    "\n",
    "Y supondremos que para aquellos valores en donde esto se cumpla, los valores de las 3 variables son correctas y pueden usarse para imputaciones posteriores.\n",
    "- price\n",
    "- surface_covered_in_m2\n",
    "- price_per_m2"
   ]
  },
  {
   "cell_type": "code",
   "execution_count": null,
   "id": "mexican-portuguese",
   "metadata": {},
   "outputs": [],
   "source": [
    "## Hipotesis 1\n",
    "\n",
    "# La mascara de no nulos no es necesaria, sin embargo la dejamos para agregar claridad.\n",
    "mask_hipotesis_uno_not_null = mask_price_notnull &  mask_surface_covered_in_m2_notnull & mask_price_per_m2_notnull\n",
    "\n",
    "mask_hipotesis_uno_condicion_limite = abs(data['price'] - data['surface_covered_in_m2'] * data['price_per_m2']) < 1\n",
    "\n",
    "mask_hipotesis_uno = mask_hipotesis_uno_not_null & mask_hipotesis_uno_condicion_limite"
   ]
  },
  {
   "cell_type": "markdown",
   "id": "pediatric-personal",
   "metadata": {},
   "source": [
    "#### Hipótesis 2\n",
    "\n",
    "Aquí ponemos como hipótesis que existe una realación lineal entre las variables price, surface_total_in_m2, price_per_m2:\n",
    "\n",
    "$$ \\text{price_aprox_usd} = \\text{surface_total_in_m2} \\cdot \\text{price_usd_per_m2}$$\n",
    "\n",
    "Y supondremos que para aquellos valores en donde esto se cumpla, los valores de las 3 variables son correctas y pueden usarse para imputaciones posteriores.\n",
    "- price_aprox_usd\n",
    "- surface_total_in_m2\n",
    "- price_usd_per_m2"
   ]
  },
  {
   "cell_type": "code",
   "execution_count": null,
   "id": "fantastic-ocean",
   "metadata": {},
   "outputs": [],
   "source": [
    "## Hipotesis 2\n",
    "\n",
    "# La mascara de no nulos no es necesaria, sin embargo la dejamos para agregar claridad.\n",
    "mask_hipotesis_dos_not_null = mask_price_aprox_usd_notnull & mask_surface_total_in_m2_notnull & mask_price_usd_per_m2_notnull\n",
    "\n",
    "mask_hipotesis_dos_condicion_limite = abs(data['price_aprox_usd'] - data['surface_total_in_m2'] * data['price_usd_per_m2']) < 1\n",
    "\n",
    "mask_hipotesis_dos = mask_hipotesis_dos_not_null & mask_hipotesis_dos_condicion_limite"
   ]
  },
  {
   "cell_type": "markdown",
   "id": "quarterly-brazil",
   "metadata": {},
   "source": [
    "#### Imputación para propiedades en dólares\n",
    "Para aquellas propiedades que están en dólares, extraeremos los valores que cumplan con alguna de las hipótesis que planteamos anteriormente."
   ]
  },
  {
   "cell_type": "code",
   "execution_count": null,
   "id": "negative-modern",
   "metadata": {},
   "outputs": [],
   "source": [
    "mask_currency_USD = data['currency'] == 'USD'\n",
    "\n",
    "mask_prices_usd_notnull = mask_price_notnull & mask_price_aprox_usd_notnull\n",
    "\n",
    "#Nos quedaremos unicamente con aquellas observaciones en donde ambos precios son iguales\n",
    "mask_prices_usd_equal = data['price'] == data['price_aprox_usd']"
   ]
  },
  {
   "cell_type": "markdown",
   "id": "adequate-charger",
   "metadata": {},
   "source": [
    "##### Imputación en dolares: Hipótesis 1\n",
    "Para el subconjuto de propiedades que describimos antes, evaluaremos el cumplimiento de la hipótesis 1, y para aquellos valores en donde se cumpla, imputaremos las siguientes variables:\n",
    "\n",
    "- price_clean\n",
    "- currency_clean\n",
    "- surface_covered_in_m2_clean\n",
    "- price_per_m2_covered_clean"
   ]
  },
  {
   "cell_type": "code",
   "execution_count": null,
   "id": "asian-polyester",
   "metadata": {},
   "outputs": [],
   "source": [
    "mask_imp_prop_usd_hipotesis_uno = mask_currency_USD \\\n",
    "                                & mask_prices_usd_notnull \\\n",
    "                                & mask_prices_usd_equal \\\n",
    "                                & mask_hipotesis_uno\n",
    "\n",
    "print(f\"Cantidad de propiedades en donde realizaremos imputaciones: {mask_imp_prop_usd_hipotesis_uno.sum()}\")"
   ]
  },
  {
   "cell_type": "markdown",
   "id": "equipped-treasurer",
   "metadata": {},
   "source": [
    "Realizamos ahora la imputación en el dataset"
   ]
  },
  {
   "cell_type": "code",
   "execution_count": null,
   "id": "rational-coordinator",
   "metadata": {},
   "outputs": [],
   "source": [
    "data.loc[mask_imp_prop_usd_hipotesis_uno, 'price_clean'] = data.loc[mask_imp_prop_usd_hipotesis_uno,'price']\n",
    "data.loc[mask_imp_prop_usd_hipotesis_uno, 'currency_clean'] = data.loc[mask_imp_prop_usd_hipotesis_uno,'currency']\n",
    "data.loc[mask_imp_prop_usd_hipotesis_uno, 'surface_covered_in_m2_clean'] = data.loc[mask_imp_prop_usd_hipotesis_uno,'surface_covered_in_m2']\n",
    "data.loc[mask_imp_prop_usd_hipotesis_uno, 'price_per_m2_covered_clean'] = data.loc[mask_imp_prop_usd_hipotesis_uno,'price_per_m2']"
   ]
  },
  {
   "cell_type": "markdown",
   "id": "czech-inspiration",
   "metadata": {},
   "source": [
    "----------------------------------------------------------"
   ]
  },
  {
   "cell_type": "markdown",
   "id": "insured-nicholas",
   "metadata": {},
   "source": [
    "#### Imputación para propiedades en pesos ARS\n",
    "Para aquellas propiedades que están en pesos argentinos, extraeremos los valores que cumplan con alguna de las hipótesis que planteamos anteriormente."
   ]
  },
  {
   "cell_type": "code",
   "execution_count": null,
   "id": "imported-brass",
   "metadata": {},
   "outputs": [],
   "source": [
    "mask_currency_ARS = data['currency'] == 'ARS'\n",
    "\n",
    "mask_prices_ars_notnull = mask_price_notnull & mask_price_aprox_local_currency_notnull\n",
    "\n",
    "mask_prices_ars_valid = abs((data['price'] - data['price_aprox_local_currency']) / data['price']) < 0.03"
   ]
  },
  {
   "cell_type": "markdown",
   "id": "quantitative-window",
   "metadata": {},
   "source": [
    "##### Imputación en pesos: Hipótesis 1\n",
    "Para el subconjuto de propiedades que describimos antes, evaluaremos el cumplimiento de la hipótesis 1, y para aquellos valores en donde se cumpla, imputaremos las siguientes variables:\n",
    "\n",
    "- price_clean\n",
    "- currency_clean\n",
    "- surface_covered_in_m2_clean\n",
    "- price_per_m2_covered_clean"
   ]
  },
  {
   "cell_type": "code",
   "execution_count": null,
   "id": "promising-carroll",
   "metadata": {},
   "outputs": [],
   "source": [
    "mask_imp_prop_ars_hipotesis_uno = mask_currency_ARS \\\n",
    "                                & mask_prices_ars_notnull \\\n",
    "                                & mask_prices_ars_valid \\\n",
    "                                & mask_hipotesis_uno\n",
    "\n",
    "print(f\"Cantidad de propiedades en donde realizaremos imputaciones: {mask_imp_prop_ars_hipotesis_uno.sum()}\")"
   ]
  },
  {
   "cell_type": "markdown",
   "id": "greatest-meditation",
   "metadata": {},
   "source": [
    "Realizamos ahora la imputación en el dataset"
   ]
  },
  {
   "cell_type": "code",
   "execution_count": null,
   "id": "muslim-portuguese",
   "metadata": {},
   "outputs": [],
   "source": [
    "data.loc[mask_imp_prop_ars_hipotesis_uno, 'price_clean'] = data.loc[mask_imp_prop_ars_hipotesis_uno,'price']\n",
    "data.loc[mask_imp_prop_ars_hipotesis_uno, 'currency_clean'] = data.loc[mask_imp_prop_ars_hipotesis_uno,'currency']\n",
    "data.loc[mask_imp_prop_ars_hipotesis_uno, 'surface_covered_in_m2_clean'] = data.loc[mask_imp_prop_ars_hipotesis_uno,'surface_covered_in_m2']\n",
    "data.loc[mask_imp_prop_ars_hipotesis_uno, 'price_per_m2_covered_clean'] = data.loc[mask_imp_prop_ars_hipotesis_uno,'price_per_m2']"
   ]
  },
  {
   "cell_type": "markdown",
   "id": "approximate-marine",
   "metadata": {},
   "source": [
    "#### Conversión a moneda uniforme\n",
    "Vamos a convertir las observaciones limpias de ARS a USD utilizando la tasa de conversión que sale como consecuencia de la realación lineal que hay entre sus columnas; de este modo poremos realizar comparaciones de manera transparente sin requerir de calculos extras."
   ]
  },
  {
   "cell_type": "code",
   "execution_count": null,
   "id": "jewish-distinction",
   "metadata": {},
   "outputs": [],
   "source": [
    "mask_currency_ARS_data_clean = data['currency_clean'] == 'ARS'\n",
    "\n",
    "data.loc[mask_currency_ARS_data_clean, 'price_clean'] = data.loc[mask_currency_ARS_data_clean,'price'] / cotizacion_USD_ARS_raw.loc[mask_currency_ARS_data_clean]\n",
    "data.loc[mask_currency_ARS_data_clean, 'price_per_m2_covered_clean'] = data.loc[mask_currency_ARS_data_clean,'price_per_m2'] / cotizacion_USD_ARS_raw.loc[mask_currency_ARS_data_clean]\n",
    "\n",
    "data.loc[mask_currency_ARS_data_clean, 'currency_clean'] = 'USD'"
   ]
  },
  {
   "cell_type": "markdown",
   "id": "authorized-rally",
   "metadata": {},
   "source": [
    "### Exportación de datos limpios"
   ]
  },
  {
   "cell_type": "code",
   "execution_count": null,
   "id": "declared-foster",
   "metadata": {},
   "outputs": [],
   "source": [
    "data.to_csv(data_location_clean)"
   ]
  }
 ],
 "metadata": {
  "kernelspec": {
   "display_name": "Python [conda env:dhdsblend2021] *",
   "language": "python",
   "name": "conda-env-dhdsblend2021-py"
  },
  "language_info": {
   "codemirror_mode": {
    "name": "ipython",
    "version": 3
   },
   "file_extension": ".py",
   "mimetype": "text/x-python",
   "name": "python",
   "nbconvert_exporter": "python",
   "pygments_lexer": "ipython3",
   "version": "3.8.5"
  }
 },
 "nbformat": 4,
 "nbformat_minor": 5
}
