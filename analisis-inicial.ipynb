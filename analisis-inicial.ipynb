{
 "cells": [
  {
   "cell_type": "code",
   "execution_count": null,
   "id": "intimate-apparatus",
   "metadata": {},
   "outputs": [],
   "source": [
    "#from sys import path\n",
    "#path.append('./funciones')"
   ]
  },
  {
   "cell_type": "markdown",
   "id": "twelve-water",
   "metadata": {},
   "source": [
    "Importo el dataset de manera general"
   ]
  },
  {
   "cell_type": "code",
   "execution_count": null,
   "id": "finite-authentication",
   "metadata": {},
   "outputs": [],
   "source": [
    "import pandas as pd\n",
    "import numpy as np\n",
    "\n",
    "data_location = './datasets/properatti.csv'\n",
    "\n",
    "raw_data = pd.read_csv(data_location)"
   ]
  },
  {
   "cell_type": "code",
   "execution_count": null,
   "id": "statewide-quilt",
   "metadata": {},
   "outputs": [],
   "source": [
    "data = raw_data\n",
    "data.index"
   ]
  },
  {
   "cell_type": "markdown",
   "id": "german-envelope",
   "metadata": {},
   "source": [
    "Dataset\n",
    "\n",
    "#Completar con nombre de campo y tipo de dato"
   ]
  },
  {
   "cell_type": "markdown",
   "id": "theoretical-elimination",
   "metadata": {},
   "source": [
    "Porcentaje de faltantes de datos"
   ]
  },
  {
   "cell_type": "code",
   "execution_count": null,
   "id": "quick-vanilla",
   "metadata": {},
   "outputs": [],
   "source": [
    "data.info()"
   ]
  },
  {
   "cell_type": "code",
   "execution_count": null,
   "id": "parental-marketing",
   "metadata": {},
   "outputs": [],
   "source": [
    "data.sample(10)"
   ]
  },
  {
   "cell_type": "code",
   "execution_count": null,
   "id": "considerable-dinner",
   "metadata": {},
   "outputs": [],
   "source": [
    "from funciones import *"
   ]
  },
  {
   "cell_type": "code",
   "execution_count": null,
   "id": "cardiovascular-minute",
   "metadata": {},
   "outputs": [],
   "source": [
    "missing_zero_values_table(data)"
   ]
  },
  {
   "cell_type": "code",
   "execution_count": null,
   "id": "controversial-stage",
   "metadata": {},
   "outputs": [],
   "source": []
  },
  {
   "cell_type": "code",
   "execution_count": null,
   "id": "infectious-charm",
   "metadata": {},
   "outputs": [],
   "source": []
  },
  {
   "cell_type": "code",
   "execution_count": null,
   "id": "growing-favorite",
   "metadata": {},
   "outputs": [],
   "source": []
  },
  {
   "cell_type": "markdown",
   "id": "lyric-employee",
   "metadata": {},
   "source": [
    "Nos deshacemos de la columna de indice ya que tienen los mismos valores."
   ]
  },
  {
   "cell_type": "code",
   "execution_count": null,
   "id": "relative-scanning",
   "metadata": {},
   "outputs": [],
   "source": [
    "#data.reset_index(drop=True, inplace=True)\n",
    "#data.index"
   ]
  },
  {
   "cell_type": "markdown",
   "id": "sealed-mailing",
   "metadata": {},
   "source": [
    "### Análisis de la variable _operation_"
   ]
  },
  {
   "cell_type": "code",
   "execution_count": null,
   "id": "dutch-spelling",
   "metadata": {},
   "outputs": [],
   "source": [
    "data['operation'].value_counts()"
   ]
  },
  {
   "cell_type": "markdown",
   "id": "complimentary-cancer",
   "metadata": {},
   "source": [
    "Todas las propiedades son para la venta, lo cual representa una categoría única."
   ]
  },
  {
   "cell_type": "code",
   "execution_count": null,
   "id": "flying-threat",
   "metadata": {},
   "outputs": [],
   "source": [
    "data['operation_category'] = data['operation'].astype('category')\n",
    "data['operation_category'].dtype"
   ]
  },
  {
   "cell_type": "markdown",
   "id": "controlling-mapping",
   "metadata": {},
   "source": [
    "### Análisis de la variable _property_type_"
   ]
  },
  {
   "cell_type": "code",
   "execution_count": null,
   "id": "indoor-reference",
   "metadata": {},
   "outputs": [],
   "source": [
    "data['property_type'].value_counts()"
   ]
  },
  {
   "cell_type": "markdown",
   "id": "straight-coral",
   "metadata": {},
   "source": [
    "Observamos que tiene tiene cuatro posibles opciones por lo cual la cambiamos a categórica."
   ]
  },
  {
   "cell_type": "code",
   "execution_count": null,
   "id": "excellent-assumption",
   "metadata": {},
   "outputs": [],
   "source": [
    "data['property_type_category'] = data['property_type'].astype('category')\n",
    "data['property_type_category'].dtype"
   ]
  },
  {
   "cell_type": "markdown",
   "id": "seasonal-blond",
   "metadata": {},
   "source": [
    "### Análisis de la variable _place_name_"
   ]
  },
  {
   "cell_type": "code",
   "execution_count": null,
   "id": "level-strengthening",
   "metadata": {},
   "outputs": [],
   "source": [
    "data['place_name'].value_counts()\n",
    "#data[['place_name','place_with_parent_names','country_name','state_name']].sample(10)"
   ]
  },
  {
   "cell_type": "markdown",
   "id": "activated-spyware",
   "metadata": {},
   "source": [
    "Haciendo un análisis de las 23 observaciones que no tienen 'place_name', observamos que las mismas pertenecen al barrio de Rincón de Mimberg, y hay observaciones que tienen las mismas características para descripciones similares. Sumado a que geográficamente las descripciones apuntan a que se encuentran en barrios cerrados ó courtries en dicha ubicación."
   ]
  },
  {
   "cell_type": "code",
   "execution_count": null,
   "id": "acting-peoples",
   "metadata": {},
   "outputs": [],
   "source": [
    "data_place_name_null = data.loc[data['place_name'].isnull()]\n",
    "data_place_name_null.head(5)"
   ]
  },
  {
   "cell_type": "code",
   "execution_count": null,
   "id": "gross-skill",
   "metadata": {},
   "outputs": [],
   "source": [
    "data[data['place_name'].str.contains('Rincón de Milberg',na=False)].head(5)"
   ]
  },
  {
   "cell_type": "markdown",
   "id": "phantom-friendly",
   "metadata": {},
   "source": [
    "Por este motivo imputamos a los datos faltantes con Rincón de Milberg, ajustando al mismo tiempo el campo place_with_parent_names para que sea consistente con la información del dataset."
   ]
  },
  {
   "cell_type": "code",
   "execution_count": null,
   "id": "involved-acrylic",
   "metadata": {},
   "outputs": [],
   "source": [
    "data['place_name_check'] = data['place_name']\n",
    "data['place_with_parent_names_check'] = data['place_with_parent_names']\n",
    "\n",
    "data.loc[data['place_name'].isnull(),['place_name_check','place_with_parent_names_check']] = \\\n",
    "    ['Rincón de Milberg','|Argentina|Bs.As. G.B.A. Zona Norte|Tigre|Rincón de Milberg|']\n",
    "data_place_name_null"
   ]
  },
  {
   "cell_type": "markdown",
   "id": "serious-graphics",
   "metadata": {},
   "source": [
    "Comprobamos que no haya faltantes en las columnas que incluimos extra"
   ]
  },
  {
   "cell_type": "code",
   "execution_count": null,
   "id": "pregnant-clock",
   "metadata": {},
   "outputs": [],
   "source": [
    "missing_zero_values_table(data)"
   ]
  },
  {
   "cell_type": "markdown",
   "id": "compact-walker",
   "metadata": {},
   "source": [
    "### Análisis de la variable _country_name_"
   ]
  },
  {
   "cell_type": "code",
   "execution_count": null,
   "id": "figured-compression",
   "metadata": {},
   "outputs": [],
   "source": [
    "data['country_name'].value_counts()"
   ]
  },
  {
   "cell_type": "markdown",
   "id": "running-stocks",
   "metadata": {},
   "source": [
    "No es necesario realizar ningún tipo de ajuste en esta variable. Vemos que todas las propiedades son en Argentina."
   ]
  },
  {
   "cell_type": "markdown",
   "id": "bigger-police",
   "metadata": {},
   "source": [
    "### Análisis de la variable _state_name_"
   ]
  },
  {
   "cell_type": "code",
   "execution_count": null,
   "id": "vertical-newcastle",
   "metadata": {},
   "outputs": [],
   "source": [
    "data['state_name'].value_counts()"
   ]
  },
  {
   "cell_type": "markdown",
   "id": "romance-adaptation",
   "metadata": {},
   "source": [
    "No es necesario realizar ningún tipo de ajuste en esta variable. Observamos que la provinicia de Buenos Aires ha sido dividida en regiones geográficas, a diferencia del resto de las provincias."
   ]
  },
  {
   "cell_type": "markdown",
   "id": "pacific-links",
   "metadata": {},
   "source": [
    "### Análisis de las variables de Geoposicionamiento"
   ]
  },
  {
   "cell_type": "markdown",
   "id": "living-midnight",
   "metadata": {},
   "source": [
    "Corroboramos que todas las observaciones que tienen datos en lat-lon tienen tambien en lat y lon"
   ]
  },
  {
   "cell_type": "code",
   "execution_count": null,
   "id": "swedish-hamilton",
   "metadata": {},
   "outputs": [],
   "source": [
    "mask_lat_notnull = data['lat'].notnull()\n",
    "mask_lon_notnull = data['lat'].notnull()\n",
    "mask_lat_lon_notnull = data['lat-lon'].notnull()\n",
    "\n",
    "mask_comparison_lat_lon = mask_lat_notnull & mask_lon_notnull & mask_lat_lon_notnull\n",
    "\n",
    "print(f\"Cantidad de observaciones con datos de Latitud y Longitud: {mask_lat_lon_notnull.sum()}\")\n",
    "print(f\"Cantidad de observaciones en donde si hay datos de Latitud y Longitud también hay datos en las columnas separadas: {mask_comparison_lat_lon.sum()}\")\n",
    "\n",
    "\n",
    "data.loc[mask_comparison_lat_lon,['lat-lon','lat','lon']]"
   ]
  },
  {
   "cell_type": "markdown",
   "id": "front-funeral",
   "metadata": {},
   "source": [
    "Corroboramos que los valores sean los mismos luego de haber hecho la división en columnas"
   ]
  },
  {
   "cell_type": "code",
   "execution_count": null,
   "id": "stainless-compound",
   "metadata": {},
   "outputs": [],
   "source": [
    "import re\n",
    "\n",
    "pattern_lat_lon = '(?P<latitude>.+),(?P<longitude>.+)'\n",
    "pattern_lat_lon_regex = re.compile(pattern_lat_lon)\n",
    "\n",
    "resultados_lat_lon = data['lat-lon'].apply(lambda x: x if x is np.NaN else pattern_lat_lon_regex.match(x))\n",
    "\n",
    "lat_match = resultados_lat_lon.apply(lambda x: x if x is np.NaN else x.group('latitude'))\n",
    "lon_match = resultados_lat_lon.apply(lambda x: x if x is np.NaN else x.group('longitude'))\n",
    "\n",
    "\n",
    "lat_match_numeric = lat_match.astype(float)\n",
    "lon_match_numeric = lon_match.astype(float)\n",
    "\n",
    "\n",
    "lat_check = data['lat'] - lat_match_numeric < .000001\n",
    "lon_check = data['lon'] - lon_match_numeric < .000001\n",
    "\n",
    "\n",
    "data_lat_lon_check = lat_check & lon_check\n",
    "\n",
    "print(f\"Cantidad de valores donde coinciden los valores de las columnas: {data_lat_lon_check.sum()}\")\n"
   ]
  },
  {
   "cell_type": "markdown",
   "id": "religious-hepatitis",
   "metadata": {},
   "source": [
    "Vamos a revisar las "
   ]
  },
  {
   "cell_type": "code",
   "execution_count": null,
   "id": "reverse-lounge",
   "metadata": {},
   "outputs": [],
   "source": [
    "data['currency'].value_counts()"
   ]
  },
  {
   "cell_type": "code",
   "execution_count": null,
   "id": "signed-bosnia",
   "metadata": {},
   "outputs": [],
   "source": [
    "data['currency'].notnull().sum()\n",
    "\n",
    "mask_testing = (data['currency'].isnull()) \\\n",
    "        & ((data['price'].notnull()) \\\n",
    "        | (data['price_aprox_local_currency'].notnull()) \\\n",
    "        | (data['price_aprox_usd'].notnull()) \\\n",
    "        | (data['price_usd_per_m2'].notnull()) \\\n",
    "        | (data['price_per_m2'].notnull()))\n",
    "mask_testing.sum()\n",
    "data[mask_testing]"
   ]
  },
  {
   "cell_type": "markdown",
   "id": "cellular-consortium",
   "metadata": {},
   "source": [
    "Para aquellas observaciones para las cuales únicamente tenemos el geoname_id le obtenemos la latitud y longitud correspondiente\n",
    "\n",
    "NO por ahora."
   ]
  },
  {
   "cell_type": "code",
   "execution_count": null,
   "id": "technological-contest",
   "metadata": {},
   "outputs": [],
   "source": [
    "data.head(10)"
   ]
  },
  {
   "cell_type": "code",
   "execution_count": null,
   "id": "annoying-pontiac",
   "metadata": {},
   "outputs": [],
   "source": []
  },
  {
   "cell_type": "code",
   "execution_count": null,
   "id": "atmospheric-enhancement",
   "metadata": {},
   "outputs": [],
   "source": [
    "data.state_name.unique()"
   ]
  },
  {
   "cell_type": "code",
   "execution_count": null,
   "id": "functional-affect",
   "metadata": {},
   "outputs": [],
   "source": [
    "data.loc[data['state_name']=='Capital Federal']['place_name'].unique()"
   ]
  },
  {
   "cell_type": "code",
   "execution_count": null,
   "id": "electrical-ballet",
   "metadata": {},
   "outputs": [],
   "source": [
    "data.loc[data.currency.isna()]"
   ]
  },
  {
   "cell_type": "code",
   "execution_count": null,
   "id": "blessed-madonna",
   "metadata": {},
   "outputs": [],
   "source": [
    "mask1 = (data['currency'].isna()) \\\n",
    "        & (data['price'].isna()) \\\n",
    "        & (data['price_aprox_local_currency'].isna()) \\\n",
    "        & (data['price_aprox_usd'].isna()) \\\n",
    "        & (data['price_usd_per_m2'].isna()) \\\n",
    "        & (data['price_per_m2'].isna())\n",
    "\n",
    "mask2 = (data['price'].isna()) \\\n",
    "        & (data['price_aprox_local_currency'].isna()) \\\n",
    "        & (data['price_aprox_usd'].isna()) \\\n",
    "        & (data['price_usd_per_m2'].isna()) \\\n",
    "        & (data['price_per_m2'].isna())\n",
    "\n",
    "#print(mask1.value_counts())\n",
    "#print(mask2.value_counts())\n",
    "data.loc[mask2,:].head(5)['description']"
   ]
  },
  {
   "cell_type": "code",
   "execution_count": null,
   "id": "automated-captain",
   "metadata": {},
   "outputs": [],
   "source": [
    "data.iloc[67,:][{'description','title'}].description"
   ]
  },
  {
   "cell_type": "code",
   "execution_count": null,
   "id": "trained-pollution",
   "metadata": {},
   "outputs": [],
   "source": [
    "data.describe()"
   ]
  },
  {
   "cell_type": "code",
   "execution_count": null,
   "id": "strange-function",
   "metadata": {},
   "outputs": [],
   "source": [
    "df['description'].sample(10)"
   ]
  },
  {
   "cell_type": "code",
   "execution_count": null,
   "id": "spare-simon",
   "metadata": {},
   "outputs": [],
   "source": [
    "df.info()"
   ]
  },
  {
   "cell_type": "code",
   "execution_count": null,
   "id": "under-astronomy",
   "metadata": {},
   "outputs": [],
   "source": [
    "import numpy as np\n",
    "col_floor = df.floor"
   ]
  },
  {
   "cell_type": "code",
   "execution_count": null,
   "id": "herbal-sauce",
   "metadata": {},
   "outputs": [],
   "source": [
    "df[df[]]"
   ]
  },
  {
   "cell_type": "code",
   "execution_count": null,
   "id": "handmade-silly",
   "metadata": {},
   "outputs": [],
   "source": [
    "df.iloc[121217].geonames_id"
   ]
  },
  {
   "cell_type": "code",
   "execution_count": null,
   "id": "japanese-aruba",
   "metadata": {},
   "outputs": [],
   "source": [
    "df_map_test = df[~df['lat'].isna()]\n",
    "df_map_test.sample(30000)"
   ]
  },
  {
   "cell_type": "code",
   "execution_count": null,
   "id": "australian-proof",
   "metadata": {},
   "outputs": [],
   "source": [
    "df.iloc[26637]"
   ]
  },
  {
   "cell_type": "code",
   "execution_count": null,
   "id": "focal-interval",
   "metadata": {},
   "outputs": [],
   "source": [
    "df.info()"
   ]
  },
  {
   "cell_type": "code",
   "execution_count": null,
   "id": "silver-catering",
   "metadata": {},
   "outputs": [],
   "source": [
    "df"
   ]
  }
 ],
 "metadata": {
  "kernelspec": {
   "display_name": "Python [conda env:dhdsblend2021] *",
   "language": "python",
   "name": "conda-env-dhdsblend2021-py"
  },
  "language_info": {
   "codemirror_mode": {
    "name": "ipython",
    "version": 3
   },
   "file_extension": ".py",
   "mimetype": "text/x-python",
   "name": "python",
   "nbconvert_exporter": "python",
   "pygments_lexer": "ipython3",
   "version": "3.8.5"
  }
 },
 "nbformat": 4,
 "nbformat_minor": 5
}
