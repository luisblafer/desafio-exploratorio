{
 "cells": [
  {
   "cell_type": "code",
   "execution_count": null,
   "id": "native-context",
   "metadata": {},
   "outputs": [],
   "source": [
    "import pandas as pd\n",
    "import numpy as np\n",
    "from funciones import *\n",
    "\n",
    "# Configuracion de display de DataFrames en Jupyter\n",
    "pd.options.display.max_columns = None\n",
    "\n",
    "# Localizacion del .CSV del dataset\n",
    "data_location_raw = './datasets/properatti.csv'\n",
    "\n",
    "# Localizacion del .CSV donde enviaremos los datos limpios\n",
    "data_location_clean = './datasets/properatti_clean.csv'\n",
    "\n",
    "# Tipos de datos a importar como categorias\n",
    "dtypes_cat = {\n",
    "    \"operation\": \"category\",\n",
    "    \"property_type\": \"category\",\n",
    "    \"country_name\": \"category\",\n",
    "    \"state_name\": \"category\",\n",
    "}\n",
    "\n",
    "# Columnas del DataFrame Original\n",
    "dtypes_non_cat_orig = {\n",
    "    \"place_name\": \"str\",\n",
    "    \"description\": \"str\",\n",
    "    \"title\": \"str\",\n",
    "}\n",
    "\n",
    "# Columnas del DataFrame limpio\n",
    "dtypes_non_cat_clean = {\n",
    "    \"price_clean\": \"float\",\n",
    "    \"currency_clean\": \"category\",\n",
    "    \"surface_covered_in_m2_clean\": \"float\",\n",
    "    \"price_per_m2_covered_clean\": \"float\",\n",
    "}\n",
    "\n",
    "# Creamos un nuevo diccionario con todos los elementos\n",
    "dtypes = {}\n",
    "dtypes.update(dtypes_cat)\n",
    "dtypes.update(dtypes_non_cat_orig)\n",
    "dtypes.update(dtypes_non_cat_clean)\n",
    "\n",
    "# Hacemos la importación del dataframe clean\n",
    "raw_data = pd.read_csv(data_location_clean,\n",
    "                       dtype=dtypes,\n",
    "                       usecols=['Unnamed: 0']+list(dtypes_cat) +\n",
    "                               list(dtypes_non_cat_orig) +\n",
    "                               list(dtypes_non_cat_clean),\n",
    "                       index_col=0\n",
    ")\n",
    "\n",
    "# Copiamos el dataframe a otro para tener una copia literal del mismo\n",
    "data = raw_data.copy()\n",
    "\n",
    "# Forma de resetear el index del dataframe si no se usa el index_col=0\n",
    "## data_default.reset_index(drop=True, inplace=True)\n",
    "## data_str.index"
   ]
  },
  {
   "cell_type": "code",
   "execution_count": null,
   "id": "suspended-finnish",
   "metadata": {},
   "outputs": [],
   "source": [
    "data.columns"
   ]
  },
  {
   "cell_type": "code",
   "execution_count": null,
   "id": "affiliated-acquisition",
   "metadata": {},
   "outputs": [],
   "source": [
    "missing_zero_values_table(data)"
   ]
  },
  {
   "cell_type": "code",
   "execution_count": null,
   "id": "passive-upgrade",
   "metadata": {},
   "outputs": [],
   "source": [
    "data.head()"
   ]
  },
  {
   "cell_type": "code",
   "execution_count": null,
   "id": "optimum-charm",
   "metadata": {},
   "outputs": [],
   "source": [
    "df1 = data.copy()\n",
    "\n",
    "df1 = df1.dropna()\n",
    "missing_zero_values_table(df1)\n",
    "#df2 = df1.copy()"
   ]
  },
  {
   "cell_type": "code",
   "execution_count": null,
   "id": "technical-pressure",
   "metadata": {},
   "outputs": [],
   "source": [
    "print(f\"Cantidad de place_name únicos: {len(df1.place_name.unique())}\")"
   ]
  },
  {
   "cell_type": "code",
   "execution_count": null,
   "id": "secondary-christopher",
   "metadata": {},
   "outputs": [],
   "source": [
    "#Le saco a los espacios adelante y atras que pudieran tener los registros del DataFrame\n",
    "df1.place_name = df1.place_name.apply(lambda x: x.strip())\n",
    "\n",
    "#df1.equals(df2)\n",
    "df1.head()"
   ]
  },
  {
   "cell_type": "code",
   "execution_count": null,
   "id": "coated-carry",
   "metadata": {},
   "outputs": [],
   "source": [
    "# Cantidad de registros por ubicación úncia\n",
    "place_name_estats = df1.groupby('place_name')['place_name'].agg('count').sort_values(ascending=False)\n",
    "place_name_estats"
   ]
  },
  {
   "cell_type": "code",
   "execution_count": null,
   "id": "married-strip",
   "metadata": {},
   "outputs": [],
   "source": [
    "# Forma equivalente de la celda anterior\n",
    "df1['place_name'].value_counts()"
   ]
  },
  {
   "cell_type": "code",
   "execution_count": null,
   "id": "imperial-harassment",
   "metadata": {},
   "outputs": [],
   "source": [
    "# Lista de regiones únicas\n",
    "df1['state_name'].unique().tolist()\n",
    "print(df1['state_name'].unique().tolist())"
   ]
  },
  {
   "cell_type": "code",
   "execution_count": null,
   "id": "received-discount",
   "metadata": {},
   "outputs": [],
   "source": [
    "# Le damos coherencia a la nomenclatura de las regiones de Buenos Aires.\n",
    "df1[\"state_name\"] = df1[\"state_name\"].str.replace(\"Buenos Aires Costa Atlántica\",\"Bs.As. Costa Atlántica\")\n",
    "#df1['state_name'].cat.rename_categories(\"Buenos Aires Costa Atlántica\",\"Bs.As. Costa Atlántica\", inplace=True)\n",
    "\n",
    "df1['state_name'].unique()"
   ]
  },
  {
   "cell_type": "code",
   "execution_count": null,
   "id": "brief-asthma",
   "metadata": {},
   "outputs": [],
   "source": [
    "# Hago un strip a los state_name\n",
    "df1.state_name = df1.state_name.apply(lambda x: x.strip())\n",
    "state_name_stats = df1['state_name'].value_counts(ascending=False)\n",
    "\n",
    "#state_name_stats"
   ]
  },
  {
   "cell_type": "code",
   "execution_count": null,
   "id": "synthetic-philadelphia",
   "metadata": {},
   "outputs": [],
   "source": [
    "# Hago un strip a los state_name\n",
    "df1.place_name = df1.place_name.apply(lambda x: x.strip())\n",
    "place_name_stats = df1['place_name'].value_counts(ascending=False)\n",
    "place_name_stats"
   ]
  },
  {
   "cell_type": "markdown",
   "id": "american-worry",
   "metadata": {},
   "source": [
    "### CREAMOS UN SUBSET DEL DATA FRAME PARA CAPITAL FEDERAL\n",
    "Esto es para poder visualizar la informacion filtrando la columna place_name para cada estado"
   ]
  },
  {
   "cell_type": "code",
   "execution_count": null,
   "id": "breathing-newton",
   "metadata": {},
   "outputs": [],
   "source": [
    "df1_subset_caba = df1[df1.state_name == \"Capital Federal\"].copy()"
   ]
  },
  {
   "cell_type": "code",
   "execution_count": null,
   "id": "bridal-cliff",
   "metadata": {},
   "outputs": [],
   "source": [
    "df1_subset_caba[df1_subset_caba['place_name'].str.contains('Palermo')].groupby('place_name').agg({'surface_covered_in_m2_clean':['count','min','max','mean','median','std'],\n",
    "                                           'price_per_m2_covered_clean':['count','min','max','mean','median','std']})"
   ]
  },
  {
   "cell_type": "code",
   "execution_count": null,
   "id": "straight-learning",
   "metadata": {},
   "outputs": [],
   "source": [
    "# Unificar los 4 palermos ya que la cantidad de registros en baja, y aparentan tener desviaciones razonables\n",
    "df1_subset_caba[\"place_name\"] = df1_subset_caba[\"place_name\"].str.replace(\"Palermo Soho\",\"Palermo\")\n",
    "df1_subset_caba[\"place_name\"] = df1_subset_caba[\"place_name\"].str.replace(\"Palermo Hollywood\",\"Palermo\")\n",
    "df1_subset_caba[\"place_name\"] = df1_subset_caba[\"place_name\"].str.replace(\"Palermo Chico\",\"Palermo\")\n",
    "df1_subset_caba[\"place_name\"] = df1_subset_caba[\"place_name\"].str.replace(\"Palermo Viejo\",\"Palermo\")"
   ]
  },
  {
   "cell_type": "code",
   "execution_count": null,
   "id": "behavioral-piece",
   "metadata": {},
   "outputs": [],
   "source": [
    "df1_subset_caba[\"place_name\"].value_counts()"
   ]
  },
  {
   "cell_type": "code",
   "execution_count": null,
   "id": "undefined-briefing",
   "metadata": {},
   "outputs": [],
   "source": [
    "df1_subset_caba.shape"
   ]
  },
  {
   "cell_type": "code",
   "execution_count": null,
   "id": "chronic-syracuse",
   "metadata": {},
   "outputs": [],
   "source": [
    "# Dropeo los registros que como barrio \n",
    "indice_indefinido = df1_subset_caba[(df1_subset_caba['place_name']==\"Capital Federal\")].index\n",
    "df1_subset_caba.drop(index=indice_indefinido, inplace=True)"
   ]
  },
  {
   "cell_type": "code",
   "execution_count": null,
   "id": "novel-sunglasses",
   "metadata": {},
   "outputs": [],
   "source": []
  },
  {
   "cell_type": "markdown",
   "id": "aboriginal-rainbow",
   "metadata": {},
   "source": [
    "### CREAMOS UN SUBSET DEL DATA FRAME PARA LAS MEDICIONES FUERA DE CAPITAL FEDERAL"
   ]
  },
  {
   "cell_type": "code",
   "execution_count": null,
   "id": "severe-muslim",
   "metadata": {},
   "outputs": [],
   "source": [
    "df1_subset_notcaba = df1[df1.state_name != \"Capital Federal\"].copy()\n",
    "df1_subset_notcaba"
   ]
  },
  {
   "cell_type": "code",
   "execution_count": null,
   "id": "respiratory-cartridge",
   "metadata": {},
   "outputs": [],
   "source": []
  },
  {
   "cell_type": "markdown",
   "id": "natural-following",
   "metadata": {},
   "source": [
    "### REMOVEMOS OUTLIERS EN BASE AL PRECIO POR M2 EN CABA\n",
    "Eliminamos files para las cuales, los valores de precio por m2 son mayores a dos desvios estandar e igualmente menores a 2 desvios estandar"
   ]
  },
  {
   "cell_type": "code",
   "execution_count": null,
   "id": "olive-formula",
   "metadata": {},
   "outputs": [],
   "source": []
  },
  {
   "cell_type": "code",
   "execution_count": null,
   "id": "protected-sapphire",
   "metadata": {},
   "outputs": [],
   "source": [
    "# Usamos nuestra función definida en funciones.py\n",
    "\n",
    "print(f\"Cantidad de registros antes de sacar los outliers: {len(df1_subset_caba)}\")\n",
    "df2_subset_caba = remover_ppm2_outliers(df1_subset_caba)\n",
    "print(f\"Cantidad de registros LUEGO de sacar los outliers: {len(df2_subset_caba)}\")\n",
    "df2_subset_caba.shape"
   ]
  },
  {
   "cell_type": "code",
   "execution_count": null,
   "id": "minimal-hardwood",
   "metadata": {},
   "outputs": [],
   "source": []
  },
  {
   "cell_type": "code",
   "execution_count": null,
   "id": "center-producer",
   "metadata": {},
   "outputs": [],
   "source": []
  },
  {
   "cell_type": "markdown",
   "id": "acting-travel",
   "metadata": {},
   "source": [
    "### REMOVEMOS OUTLIERS EN BASE AL PRECIO POR M2 FUERA DE CABA\n",
    "Eliminamos files para las cuales, los valores de precio por m2 son mayores a dos desvios estandar e igualmente menores a 2 desvios estandar"
   ]
  },
  {
   "cell_type": "code",
   "execution_count": null,
   "id": "acoustic-reporter",
   "metadata": {},
   "outputs": [],
   "source": [
    "# Usamos nuestra función definida en funciones.py\n",
    "\n",
    "print(f\"Cantidad de registros antes de sacar los outliers: {len(df1_subset_notcaba)}\")\n",
    "df2_subset_notcaba = remover_ppm2_outliers(df1_subset_notcaba)\n",
    "print(f\"Cantidad de registros LUEGO de sacar los outliers: {len(df2_subset_notcaba)}\")\n",
    "df2_subset_notcaba.shape"
   ]
  },
  {
   "cell_type": "code",
   "execution_count": null,
   "id": "sweet-twins",
   "metadata": {},
   "outputs": [],
   "source": []
  },
  {
   "cell_type": "code",
   "execution_count": null,
   "id": "still-carter",
   "metadata": {},
   "outputs": [],
   "source": []
  },
  {
   "cell_type": "markdown",
   "id": "analyzed-upset",
   "metadata": {},
   "source": [
    "### PRESENTACIÓN DE LA INFORMACIÓN\n",
    "\n",
    "La info se presenta segmentada en dos subgrupos: \n",
    "\n",
    "- Inmuebles ubicados en CABA\n",
    "- Inbuebles ubicados fuera de CABA"
   ]
  },
  {
   "cell_type": "markdown",
   "id": "respective-control",
   "metadata": {},
   "source": [
    "### ¿CUANTAS MEDICIONES COMPONEN CADA SUBGRUPO?"
   ]
  },
  {
   "cell_type": "markdown",
   "id": "consistent-rates",
   "metadata": {},
   "source": [
    "### Subgrupo CABA"
   ]
  },
  {
   "cell_type": "code",
   "execution_count": null,
   "id": "wound-finish",
   "metadata": {},
   "outputs": [],
   "source": [
    "mask_capital_federal = df2_subset_caba['state_name'] == 'Capital Federal'\n",
    "print(f\"Observaciones en Capital Federal: {mask_capital_federal.sum()}.\")"
   ]
  },
  {
   "cell_type": "code",
   "execution_count": null,
   "id": "attended-blair",
   "metadata": {},
   "outputs": [],
   "source": [
    "mask_no_capital_federal = df2_subset_notcaba['state_name'] != 'Capital Federal'\n",
    "print(f\"Observaciones fuera de Capital Federal: {mask_no_capital_federal.sum()}.\")"
   ]
  },
  {
   "cell_type": "code",
   "execution_count": null,
   "id": "welcome-variable",
   "metadata": {},
   "outputs": [],
   "source": [
    "listado_barrios = df2_subset_caba['place_name'].unique()\n",
    "listado_barrios = np.sort(listado_barrios)\n",
    "print(f\"Cantidad de Barrios considerados en Capital Federal: {len(listado_barrios)}.\")"
   ]
  },
  {
   "cell_type": "code",
   "execution_count": null,
   "id": "directed-housing",
   "metadata": {},
   "outputs": [],
   "source": [
    "df2_subset_caba['place_name'].values"
   ]
  },
  {
   "cell_type": "code",
   "execution_count": null,
   "id": "infinite-occurrence",
   "metadata": {},
   "outputs": [],
   "source": [
    "df2_subset_caba['property_type'].value_counts()"
   ]
  },
  {
   "cell_type": "code",
   "execution_count": null,
   "id": "engaged-cricket",
   "metadata": {},
   "outputs": [],
   "source": [
    "# Verificamos que nos de el valor de un barrio\n",
    "listado_barrios[0]"
   ]
  },
  {
   "cell_type": "code",
   "execution_count": null,
   "id": "demographic-insurance",
   "metadata": {},
   "outputs": [],
   "source": [
    "df2_subset_caba[\"place_name\"].value_counts()"
   ]
  },
  {
   "cell_type": "code",
   "execution_count": null,
   "id": "familiar-luxembourg",
   "metadata": {},
   "outputs": [],
   "source": [
    "#x_data = df2_subset_caba['price_per_m2_covered_clean'].values\n",
    "#x_data"
   ]
  },
  {
   "cell_type": "code",
   "execution_count": null,
   "id": "acute-socket",
   "metadata": {},
   "outputs": [],
   "source": [
    "# Seleccion del barrio a graficar por indice\n",
    "barrio_index = 4\n",
    "\n",
    "y_data = ['PH', 'Apartment', 'House', 'Store']\n",
    "\n",
    "x0 = df2_subset_caba.loc[mask_capital_federal & (df2_subset_caba['place_name'] == listado_barrios[barrio_index]) & (df2_subset_caba['property_type'] == 'PH'),'price_per_m2_covered_clean'].values\n",
    "x1 = df2_subset_caba.loc[mask_capital_federal & (df2_subset_caba['place_name'] == listado_barrios[barrio_index]) & (df2_subset_caba['property_type'] == 'apartment'),'price_per_m2_covered_clean'].values\n",
    "x2 = df2_subset_caba.loc[mask_capital_federal & (df2_subset_caba['place_name'] == listado_barrios[barrio_index]) & (df2_subset_caba['property_type'] == 'house'),'price_per_m2_covered_clean'].values\n",
    "x3 = df2_subset_caba.loc[mask_capital_federal & (df2_subset_caba['place_name'] == listado_barrios[barrio_index]) & (df2_subset_caba['property_type'] == 'store'),'price_per_m2_covered_clean'].values\n",
    "\n",
    "x_data = [x0, x1, x2, x3]\n",
    "\n",
    "colors = ['rgba(93, 164, 214, 0.5)', 'rgba(255, 144, 14, 0.5)', 'rgba(44, 160, 101, 0.5)',\n",
    "          'rgba(255, 65, 54, 0.5)']\n",
    "\n",
    "import plotly.graph_objects as go\n",
    "\n",
    "fig = go.Figure()\n",
    "\n",
    "for xd, yd, cls in zip(x_data, y_data, colors):\n",
    "        fig.add_trace(go.Box(\n",
    "            x=xd,\n",
    "            name=yd,\n",
    "            boxpoints='suspectedoutliers',\n",
    "            jitter=0.5,\n",
    "            pointpos=0,\n",
    "            fillcolor=cls,\n",
    "            whiskerwidth=0.7,\n",
    "            line_width=1)\n",
    "        )\n",
    "\n",
    "\n",
    "fig.update_yaxes(type='category')\n",
    "\n",
    "\n",
    "fig.update_layout(\n",
    "    title=\n",
    "    f'<b>Boxplot por tipo de propiedad (con Limpieza)</b>'+\n",
    "    f'<br>{listado_barrios[barrio_index]}',\n",
    "    #title=f\"Boxplot por tipo de propiedad: {listado_barrios[barrio_index]}\",\n",
    "    #subtitle=\"By Class of Car\",\n",
    "    xaxis=dict(\n",
    "        title='Precio por metro<sup>2</sup> cubierto (<b>USD</b>)',\n",
    "        autorange=True,\n",
    "        showgrid=True,\n",
    "        zeroline=False,\n",
    "        ticks=\"outside\",\n",
    "        gridwidth=0.5\n",
    "#        nticks=15\n",
    "    ),\n",
    "    margin=dict(\n",
    "        l=40,\n",
    "        r=30,\n",
    "        b=80,\n",
    "        t=100,\n",
    "    ),\n",
    "    paper_bgcolor='rgb(243, 243, 243)',\n",
    "    plot_bgcolor='rgb(243, 243, 243)',\n",
    "    showlegend=True,\n",
    "    #hovermode='x unified'\n",
    ")\n",
    "\n",
    "fig.update_traces(hovertemplate=\"Precio: %{x:.0f} / m<sup>2</sup>\")\n",
    "fig.show()\n",
    "\n"
   ]
  },
  {
   "cell_type": "markdown",
   "id": "demographic-tourist",
   "metadata": {},
   "source": [
    "#### Histograma por barrio"
   ]
  },
  {
   "cell_type": "code",
   "execution_count": null,
   "id": "hawaiian-flooring",
   "metadata": {},
   "outputs": [],
   "source": [
    "mybins = np.arange(start=1000, stop=10000, step=500)\n",
    "df2_subset_caba.hist(column='price_per_m2_covered_clean', by='place_name', grid=True, figsize=(30,40), bins=mybins)"
   ]
  },
  {
   "cell_type": "code",
   "execution_count": null,
   "id": "looking-threshold",
   "metadata": {},
   "outputs": [],
   "source": []
  },
  {
   "cell_type": "code",
   "execution_count": null,
   "id": "freelance-marker",
   "metadata": {},
   "outputs": [],
   "source": []
  },
  {
   "cell_type": "markdown",
   "id": "mental-stretch",
   "metadata": {},
   "source": [
    "### CUALES SON LOS 5 BARRIOS DE MAYOR PRECIO POR METRO CUADRADO DENTRO DE CABA"
   ]
  },
  {
   "cell_type": "code",
   "execution_count": null,
   "id": "going-ballet",
   "metadata": {},
   "outputs": [],
   "source": [
    "df2_top_frequent_caba = df2_subset_caba.groupby([\"place_name\"])['price_per_m2_covered_clean'].agg('mean').sort_values(ascending=False).round(2).head(8)\n",
    "print(df2_top_frequent_caba.to_string())"
   ]
  },
  {
   "cell_type": "markdown",
   "id": "micro-mobility",
   "metadata": {},
   "source": [
    "### CUALES SON LOS 5 BARRIOS DE MENOR PRECIO POR METRO CUADRADO DENTRO DE CABA"
   ]
  },
  {
   "cell_type": "code",
   "execution_count": null,
   "id": "backed-accused",
   "metadata": {},
   "outputs": [],
   "source": [
    "df2_top_frequent_caba = df2_subset_caba.groupby([\"place_name\"])['price_per_m2_covered_clean'].agg('mean').sort_values(ascending=True).round(2).head(5)\n",
    "df2_top_frequent_caba.index"
   ]
  },
  {
   "cell_type": "markdown",
   "id": "distinguished-swiss",
   "metadata": {},
   "source": [
    "### CUALES SON LOS 5 BARRIOS CON MAS PUBLICACIONES DENTRO DE CABA"
   ]
  },
  {
   "cell_type": "code",
   "execution_count": null,
   "id": "current-detail",
   "metadata": {},
   "outputs": [],
   "source": [
    "#df2_top_frequent_caba = df2_subset_caba.groupby([\"place_name\"]).agg('count')#.sort_values(\"operation\", ascending=False).head(5).reset_index()\n",
    "#df2_top_frequent_caba\n",
    "\n",
    "df2_top_5_caba = df2_subset_caba[\"place_name\"].value_counts().head(5)\n",
    "print(df2_top_5_caba)\n",
    "print(f\"Top 5 de barrios con mayor cantidad de publicaciones:\\n\"\n",
    "      f\"{df2_top_5_caba.to_string()}\")\n"
   ]
  },
  {
   "cell_type": "code",
   "execution_count": null,
   "id": "impossible-sweden",
   "metadata": {},
   "outputs": [],
   "source": []
  },
  {
   "cell_type": "code",
   "execution_count": null,
   "id": "circular-compact",
   "metadata": {},
   "outputs": [],
   "source": []
  },
  {
   "cell_type": "markdown",
   "id": "electronic-collaboration",
   "metadata": {},
   "source": [
    "-----------------------"
   ]
  },
  {
   "cell_type": "code",
   "execution_count": null,
   "id": "arabic-jason",
   "metadata": {},
   "outputs": [],
   "source": []
  },
  {
   "cell_type": "code",
   "execution_count": null,
   "id": "concerned-worship",
   "metadata": {},
   "outputs": [],
   "source": []
  },
  {
   "cell_type": "code",
   "execution_count": null,
   "id": "younger-packet",
   "metadata": {},
   "outputs": [],
   "source": []
  },
  {
   "cell_type": "code",
   "execution_count": null,
   "id": "frank-mailman",
   "metadata": {},
   "outputs": [],
   "source": []
  },
  {
   "cell_type": "code",
   "execution_count": null,
   "id": "faced-people",
   "metadata": {},
   "outputs": [],
   "source": []
  },
  {
   "cell_type": "code",
   "execution_count": null,
   "id": "occupational-broadway",
   "metadata": {},
   "outputs": [],
   "source": []
  },
  {
   "cell_type": "code",
   "execution_count": null,
   "id": "minus-senate",
   "metadata": {},
   "outputs": [],
   "source": [
    "## ACA TERMINÓ MIGUEL"
   ]
  },
  {
   "cell_type": "code",
   "execution_count": null,
   "id": "revised-structure",
   "metadata": {},
   "outputs": [],
   "source": [
    "## ACA EMPEZO FEDE Y DARIO"
   ]
  },
  {
   "cell_type": "code",
   "execution_count": null,
   "id": "imported-industry",
   "metadata": {},
   "outputs": [],
   "source": [
    "df1_subset_caba\n",
    "\n",
    "plt.style.use(\"ggplot\")\n",
    "\n",
    "df_price_usd = df1_subset_caba[\"price_per_m2_covered_clean\"]\n",
    "df_place = df1_subset_caba[\"place_name\"]\n",
    "\n",
    "fig = plt.figure(figsize = (10,10))\n",
    "# creo los axes\n",
    "ax = plt.axes()\n",
    "# dibujo en axes:\n",
    "\n",
    "ax.scatter(df_price_usd, df_place, marker = 'o', color = \"green\", label='serie sin', alpha = 0.3)"
   ]
  },
  {
   "cell_type": "code",
   "execution_count": null,
   "id": "pediatric-destruction",
   "metadata": {},
   "outputs": [],
   "source": [
    "df_precios = df1_subset_caba[\"price_per_m2_covered_clean\"]\n",
    "\n",
    "q_superior = df1_subset_caba[\"price_per_m2_covered_clean\"].quantile(0.90)\n",
    "q_superior\n",
    "\n",
    "q_inferior = df1_subset_caba[\"price_per_m2_covered_clean\"].quantile(0.05)\n",
    "q_inferior\n",
    "\n",
    "\n",
    "\n",
    "df_subset_caba_clean = df1_subset_caba[(df1_subset_caba[\"price_per_m2_covered_clean\"] < q_superior) & (df1_subset_caba[\"price_per_m2_covered_clean\"] > q_inferior)]\n",
    "\n"
   ]
  },
  {
   "cell_type": "code",
   "execution_count": null,
   "id": "together-spokesman",
   "metadata": {},
   "outputs": [],
   "source": [
    "plt.style.use(\"ggplot\")\n",
    "\n",
    "df_price_usd = df_subset_caba_clean[\"price_per_m2_covered_clean\"]\n",
    "df_place = df_subset_caba_clean[\"place_name\"]\n",
    "\n",
    "fig = plt.figure(figsize = (15,15))\n",
    "# creo los axes\n",
    "ax = plt.axes()\n",
    "# dibujo en axes:\n",
    "\n",
    "ax.scatter(df_price_usd, df_place, marker = 'o', color = \"green\", label='serie sin', alpha = 0.3)\n"
   ]
  },
  {
   "cell_type": "code",
   "execution_count": null,
   "id": "fifteen-enzyme",
   "metadata": {},
   "outputs": [],
   "source": [
    "import matplotlib as mpl\n",
    "import matplotlib.pyplot as plt\n",
    "%matplotlib inline\n",
    "\n",
    "\n",
    "## df_subset_gba = df1[df1.state_name == \"Bs.As. G.B.A. Zona Norte\" & df1.state_name == \"Bs.As. G.B.A. Zona Sur\" & df.state_name == \"Bs.As. G.B.A. Zona Oeste\"]\n",
    "\n",
    "\n",
    "\n",
    "## Bs.As. G.B.A. Zona Norte    22518\n",
    "## Bs.As. G.B.A. Zona Sur       9907\n",
    "## Bs.As. Costa Atlántica       6924\n",
    "## Bs.As. G.B.A. Zona Oeste\n"
   ]
  },
  {
   "cell_type": "code",
   "execution_count": null,
   "id": "later-transaction",
   "metadata": {},
   "outputs": [],
   "source": [
    "df_subset_gba_norte = df1[df1.state_name == \"Bs.As. G.B.A. Zona Norte\"]\n",
    "df_subset_gba_sur = df1[df1.state_name == \"Bs.As. G.B.A. Zona Sur\"]\n",
    "df_subset_gba_oeste = df1[df1.state_name == \"Bs.As. G.B.A. Zona Oeste\"]\n",
    "df_subset_costa = df1[df1.state_name == \"Bs.As. Costa Atlántica \"]"
   ]
  },
  {
   "cell_type": "code",
   "execution_count": null,
   "id": "removable-solid",
   "metadata": {},
   "outputs": [],
   "source": [
    "## -------------------------------------------------------------------------Histograma Conurbano Norte---------------------------------------------------------------------------------"
   ]
  },
  {
   "cell_type": "code",
   "execution_count": null,
   "id": "provincial-cigarette",
   "metadata": {},
   "outputs": [],
   "source": [
    "df_subset_gba_norte = df1[df1.state_name == \"Bs.As. G.B.A. Zona Norte\"]\n",
    "\n",
    "q_superior = df_subset_gba_norte[\"price_per_m2_covered_clean\"].quantile(0.90)\n",
    "q_superior\n",
    "\n",
    "q_inferior = df_subset_gba_norte[\"price_per_m2_covered_clean\"].quantile(0.10)\n",
    "q_inferior\n",
    "\n",
    "\n",
    "\n",
    "df_subset_gba_norte_clean = df_subset_gba_norte[(df_subset_gba_norte[\"price_per_m2_covered_clean\"] < q_superior) & (df_subset_gba_norte[\"price_per_m2_covered_clean\"] > q_inferior)]"
   ]
  },
  {
   "cell_type": "code",
   "execution_count": null,
   "id": "internal-behavior",
   "metadata": {},
   "outputs": [],
   "source": [
    "plt.style.use(\"ggplot\")\n",
    "\n",
    "df_price_usd_norte = df_subset_gba_norte_clean[\"price_per_m2_covered_clean\"]\n",
    "df_place_norte = df_subset_gba_norte_clean[\"place_name\"]\n",
    "\n",
    "fig = plt.figure(figsize = (20,20))\n",
    "# creo los axes\n",
    "ax = plt.axes()\n",
    "# dibujo en axes:\n",
    "\n",
    "ax.scatter(df_price_usd_norte, df_place_norte, marker = 'o', color = \"green\", label='serie sin', alpha = 0.3)"
   ]
  },
  {
   "cell_type": "code",
   "execution_count": null,
   "id": "baking-virtue",
   "metadata": {},
   "outputs": [],
   "source": [
    "df_subset_gba_norte_clean[\"place_name\"].value_counts().head(10)\n",
    "\n",
    "\n",
    "# df_subset_gba_norte_clean[: \"price_per_m2_covered_clean\"] >"
   ]
  },
  {
   "cell_type": "code",
   "execution_count": null,
   "id": "spoken-holder",
   "metadata": {},
   "outputs": [],
   "source": [
    "Tigre = df_subset_gba_norte_clean[df_subset_gba_norte_clean[\"place_name\"] == \"Tigre\"]\n",
    "Nordelta = df_subset_gba_norte_clean[df_subset_gba_norte_clean[\"place_name\"] == \"Nordelta\"]\n",
    "Pilar = df_subset_gba_norte_clean[df_subset_gba_norte_clean[\"place_name\"] == \"Pilar\"]\n",
    "Olivos = df_subset_gba_norte_clean[df_subset_gba_norte_clean[\"place_name\"] == \"Olivos\"]\n",
    "San_Isidro = df_subset_gba_norte_clean[df_subset_gba_norte_clean[\"place_name\"] == \"San Isidro\"]\n",
    "Martinez = df_subset_gba_norte_clean[df_subset_gba_norte_clean[\"place_name\"] == \"Martínez\"]\n"
   ]
  },
  {
   "cell_type": "code",
   "execution_count": null,
   "id": "primary-sterling",
   "metadata": {},
   "outputs": [],
   "source": [
    "tgr = ['Tigre', 2091]\n",
    "nrd = ['Nordelta', 2634]\n",
    "plr = ['Pilar', 1825]\n",
    "olv = ['Olivos', 2459]\n",
    "sns = ['San Isidro', 2346]\n",
    "mrz = ['Martinez', 2159]\n",
    "\n",
    "Lista_conurbano = [tgr, nrd, plr, olv, sns, mrz]\n",
    "\n",
    "df_conurbano = pd.DataFrame(Lista_conurbano, columns = [\"Lugar\", \"Precio\"])\n",
    "df_conurbano"
   ]
  },
  {
   "cell_type": "code",
   "execution_count": null,
   "id": "noted-final",
   "metadata": {},
   "outputs": [],
   "source": [
    "hist_conurbano_norte = df_conurbano.sort_values(\"Precio\", ascending= True)\n",
    "plt.bar(hist_conurbano_norte[\"Lugar\"],hist_conurbano_norte[\"Precio\"])\n",
    "plt.show"
   ]
  },
  {
   "cell_type": "code",
   "execution_count": null,
   "id": "material-gathering",
   "metadata": {},
   "outputs": [],
   "source": [
    "#---------------------------------------------Histograma Conurbano sur-------------------------------------------------------------------"
   ]
  },
  {
   "cell_type": "code",
   "execution_count": null,
   "id": "israeli-formula",
   "metadata": {},
   "outputs": [],
   "source": [
    "df_subset_gba_sur = df1[df1.state_name == \"Bs.As. G.B.A. Zona Sur\"]\n",
    "\n",
    "q_superior = df_subset_gba_sur[\"price_per_m2_covered_clean\"].quantile(0.90)\n",
    "q_superior\n",
    "\n",
    "q_inferior = df_subset_gba_sur[\"price_per_m2_covered_clean\"].quantile(0.10)\n",
    "q_inferior\n",
    "\n",
    "\n",
    "\n",
    "df_subset_gba_sur_clean = df_subset_gba_sur[(df_subset_gba_sur[\"price_per_m2_covered_clean\"] < q_superior) & (df_subset_gba_sur[\"price_per_m2_covered_clean\"] > q_inferior)]"
   ]
  },
  {
   "cell_type": "code",
   "execution_count": null,
   "id": "atlantic-giving",
   "metadata": {},
   "outputs": [],
   "source": [
    "df_subset_gba_sur_clean.describe()"
   ]
  },
  {
   "cell_type": "code",
   "execution_count": null,
   "id": "indian-indian",
   "metadata": {},
   "outputs": [],
   "source": [
    "plt.style.use(\"ggplot\")\n",
    "\n",
    "df_price_usd_sur = df_subset_gba_sur_clean[\"price_per_m2_covered_clean\"]\n",
    "df_place_sur = df_subset_gba_sur_clean[\"place_name\"]\n",
    "\n",
    "fig = plt.figure(figsize = (20,20))\n",
    "# creo los axes\n",
    "ax = plt.axes()\n",
    "# dibujo en axes:\n",
    "\n",
    "ax.scatter(df_price_usd_sur, df_place_sur, marker = 'o', color = \"blue\", label='serie sin', alpha = 0.3)"
   ]
  },
  {
   "cell_type": "code",
   "execution_count": null,
   "id": "handy-identification",
   "metadata": {},
   "outputs": [],
   "source": [
    "df_subset_gba_sur = df1[df1.state_name == \"Bs.As. G.B.A. Zona Sur\"]\n",
    "df_subset_gba_oeste = df1[df1.state_name == \"Bs.As. G.B.A. Zona Oeste\"]\n",
    "df_subset_costa = df1[df1.state_name == \"Bs.As. Costa Atlántica \"]\n",
    "\n",
    "q1 = df_subset_gba_sur[\"price_per_m2_covered_clean\"].quantile(0.90)\n",
    "\n",
    "q2 = df_subset_gba_sur[\"price_per_m2_covered_clean\"].quantile(0.10)\n",
    "\n",
    "df_subset_gba_sur_clean = df_subset_gba_sur[(df_subset_gba_sur[\"price_per_m2_covered_clean\"] < q_superior) & (df_subset_gba_sur[\"price_per_m2_covered_clean\"] > q_inferior)]\n",
    "df_subset_gba_sur_clean[\"place_name\"].value_counts().head(6)"
   ]
  },
  {
   "cell_type": "code",
   "execution_count": null,
   "id": "applied-watch",
   "metadata": {},
   "outputs": [],
   "source": [
    "lpt = ['La Plata', 1758]\n",
    "ldz = ['Lomas', 2009]\n",
    "bfd = ['Banfield', 1932]\n",
    "lns = ['Lanús', 1706]\n",
    "age = ['Adrogué', 1942]\n",
    "tpy = ['Temperley', 1740]\n",
    "\n",
    "Lista_conurbano_sur = [lpt, ldz, bfd, lns, age, tpy]\n",
    "\n",
    "df_conurbano_sur = pd.DataFrame(Lista_conurbano, columns = [\"Lugar\", \"Precio\"])\n",
    "df_conurbano_sur"
   ]
  },
  {
   "cell_type": "code",
   "execution_count": null,
   "id": "private-specialist",
   "metadata": {},
   "outputs": [],
   "source": [
    "df_subset_gba_sur_clean[df_subset_gba_sur_clean[\"place_name\"] == \"Temperley\"].describe()"
   ]
  },
  {
   "cell_type": "code",
   "execution_count": null,
   "id": "understood-contact",
   "metadata": {},
   "outputs": [],
   "source": [
    "hist_conurbano_sur = df_conurbano_sur.sort_values(\"Precio\", ascending= True)\n",
    "plt.bar(hist_conurbano_sur[\"Lugar\"],hist_conurbano_sur[\"Precio\"])\n",
    "plt.show"
   ]
  },
  {
   "cell_type": "code",
   "execution_count": null,
   "id": "moderate-cabinet",
   "metadata": {},
   "outputs": [],
   "source": [
    "#---------------------------------------------Histograma Conurbano oeste-------------------------------------------------------------------"
   ]
  },
  {
   "cell_type": "code",
   "execution_count": null,
   "id": "vanilla-bikini",
   "metadata": {},
   "outputs": [],
   "source": [
    "df_subset_gba_oeste = df1[df1.state_name == \"Bs.As. G.B.A. Zona Oeste\"]\n",
    "\n",
    "\n",
    "q1 = df_subset_gba_oeste[\"price_per_m2_covered_clean\"].quantile(0.90)\n",
    "\n",
    "q2 = df_subset_gba_oeste[\"price_per_m2_covered_clean\"].quantile(0.10)\n",
    "\n",
    "df_subset_gba_oeste_clean = df_subset_gba_oeste[(df_subset_gba_oeste[\"price_per_m2_covered_clean\"] < q_superior) & (df_subset_gba_oeste[\"price_per_m2_covered_clean\"] > q_inferior)]\n",
    "df_subset_gba_oeste_clean[\"place_name\"].value_counts().head(6)"
   ]
  },
  {
   "cell_type": "code",
   "execution_count": null,
   "id": "oriental-clone",
   "metadata": {},
   "outputs": [],
   "source": [
    "plt.style.use(\"ggplot\")\n",
    "\n",
    "df_price_usd_oeste = df_subset_gba_oeste_clean[\"price_per_m2_covered_clean\"]\n",
    "df_place_oeste = df_subset_gba_oeste_clean[\"place_name\"]\n",
    "\n",
    "fig = plt.figure(figsize = (20,20))\n",
    "# creo los axes\n",
    "ax = plt.axes()\n",
    "# dibujo en axes:\n",
    "\n",
    "ax.scatter(df_price_usd_oeste, df_place_oeste, marker = 'o', color = \"green\", label='serie sin', alpha = 0.2)"
   ]
  },
  {
   "cell_type": "code",
   "execution_count": null,
   "id": "initial-massachusetts",
   "metadata": {},
   "outputs": [],
   "source": [
    "lpt = ['La Plata', 1758]\n",
    "ldz = ['Lomas', 2009]\n",
    "bfd = ['Banfield', 1932]\n",
    "lns = ['Lanús', 1706]\n",
    "age = ['Adrogué', 1942]\n",
    "tpy = ['Temperley', 1740]\n",
    "\n",
    "Lista_conurbano_sur = [lpt, ldz, bfd, lns, age, tpy]\n",
    "\n",
    "df_conurbano_norte = pd.DataFrame(Lista_conurbano, columns = [\"Lugar\", \"Precio\"])\n",
    "df_conurbano_norte"
   ]
  },
  {
   "cell_type": "code",
   "execution_count": null,
   "id": "controlling-dancing",
   "metadata": {},
   "outputs": [],
   "source": [
    "df_subset_gba_oeste_clean[\"place_name\"].value_counts().head(6)"
   ]
  },
  {
   "cell_type": "code",
   "execution_count": null,
   "id": "equipped-johnson",
   "metadata": {},
   "outputs": [],
   "source": [
    "df_subset_gba_oeste_clean[df_subset_gba_oeste_clean[\"place_name\"] == \"Caseros\"].describe()"
   ]
  },
  {
   "cell_type": "code",
   "execution_count": null,
   "id": "muslim-argument",
   "metadata": {},
   "outputs": [],
   "source": [
    "rmj = ['Ramos', 1966]\n",
    "mrn = ['Morón', 1781]\n",
    "hdo = ['Haedo', 1833]\n",
    "csr = ['Castelar', 1855]\n",
    "izo = ['Ituzaingó', 1589]\n",
    "crs = ['Caseros', 1704]\n",
    "\n",
    "Lista_conurbano_oeste = [rmj, mrn, hdo, csr, izo, crs]\n",
    "\n",
    "df_conurbano_oeste = pd.DataFrame(Lista_conurbano_oeste, columns = [\"Lugar\", \"Precio\"])\n",
    "df_conurbano_oeste"
   ]
  },
  {
   "cell_type": "code",
   "execution_count": null,
   "id": "nutritional-fitting",
   "metadata": {},
   "outputs": [],
   "source": [
    "hist_conurbano_oeste = df_conurbano_oeste.sort_values(\"Precio\", ascending= True)\n",
    "plt.bar(hist_conurbano_oeste[\"Lugar\"],hist_conurbano_oeste[\"Precio\"])\n",
    "plt.show"
   ]
  },
  {
   "cell_type": "code",
   "execution_count": null,
   "id": "terminal-yorkshire",
   "metadata": {},
   "outputs": [],
   "source": [
    "# ------------------------------------------------------La costa ----------------------------------------------------------------------"
   ]
  },
  {
   "cell_type": "code",
   "execution_count": null,
   "id": "universal-newfoundland",
   "metadata": {},
   "outputs": [],
   "source": [
    "df_subset_costa = df1[df1.state_name == \"Bs.As. Costa Atlántica\"]\n",
    "\n",
    "q1 = df_subset_costa[\"price_per_m2_covered_clean\"].quantile(0.90)\n",
    "\n",
    "q2 = df_subset_costa[\"price_per_m2_covered_clean\"].quantile(0.10)\n",
    "\n",
    "df_subset_costa_clean = df_subset_costa[(df_subset_costa[\"price_per_m2_covered_clean\"] < q_superior) & (df_subset_costa[\"price_per_m2_covered_clean\"] > q_inferior)]\n",
    "df_subset_costa_clean[\"place_name\"].value_counts().head(6)"
   ]
  },
  {
   "cell_type": "code",
   "execution_count": null,
   "id": "therapeutic-plaza",
   "metadata": {},
   "outputs": [],
   "source": [
    "plt.style.use(\"ggplot\")\n",
    "\n",
    "df_price_usd_costa = df_subset_costa_clean[\"price_per_m2_covered_clean\"]\n",
    "df_place_costa = df_subset_costa_clean[\"place_name\"]\n",
    "\n",
    "fig = plt.figure(figsize = (20,20))\n",
    "# creo los axes\n",
    "ax = plt.axes()\n",
    "# dibujo en axes:\n",
    "\n",
    "ax.scatter(df_price_usd_costa, df_place_costa, marker = 'o', color = \"blue\", label='serie sin', alpha = 0.2)"
   ]
  },
  {
   "cell_type": "code",
   "execution_count": null,
   "id": "electoral-concert",
   "metadata": {},
   "outputs": [],
   "source": [
    "df_subset_costa_clean[\"place_name\"].value_counts().head(7)"
   ]
  },
  {
   "cell_type": "code",
   "execution_count": null,
   "id": "celtic-share",
   "metadata": {},
   "outputs": [],
   "source": [
    "df_subset_costa_clean[df_subset_costa_clean[\"place_name\"] == \"Güemes\"].describe()"
   ]
  },
  {
   "cell_type": "code",
   "execution_count": null,
   "id": "eastern-growth",
   "metadata": {},
   "outputs": [],
   "source": [
    "mdq = [\"MDQ\", 1922]\n",
    "pnr = ['Pinamar', 1943]\n",
    "vgl = ['Gesell', 1716]\n",
    "csl = ['Esmeralda', 1553]\n",
    "pmr = ['Mitre', 2353]\n",
    "gms = ['Güemes', 2525]\n",
    "\n",
    "Lista_costa = [mdq, pnr, vgl, csl, pmr, gms]\n",
    "\n",
    "df_costa_atl = pd.DataFrame(Lista_costa, columns = [\"Lugar\", \"Precio\"])\n",
    "df_costa_atl"
   ]
  },
  {
   "cell_type": "code",
   "execution_count": null,
   "id": "social-banner",
   "metadata": {},
   "outputs": [],
   "source": [
    "hist_costa_atl = df_costa_atl.sort_values(\"Precio\", ascending= True)\n",
    "plt.bar(hist_costa_atl[\"Lugar\"],hist_costa_atl[\"Precio\"])\n",
    "plt.show"
   ]
  },
  {
   "cell_type": "code",
   "execution_count": null,
   "id": "returning-membrane",
   "metadata": {},
   "outputs": [],
   "source": []
  }
 ],
 "metadata": {
  "kernelspec": {
   "display_name": "Python [conda env:dhdsblend2021] *",
   "language": "python",
   "name": "conda-env-dhdsblend2021-py"
  },
  "language_info": {
   "codemirror_mode": {
    "name": "ipython",
    "version": 3
   },
   "file_extension": ".py",
   "mimetype": "text/x-python",
   "name": "python",
   "nbconvert_exporter": "python",
   "pygments_lexer": "ipython3",
   "version": "3.8.5"
  }
 },
 "nbformat": 4,
 "nbformat_minor": 5
}
