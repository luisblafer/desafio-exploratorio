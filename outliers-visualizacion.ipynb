{
 "cells": [
  {
   "cell_type": "code",
   "execution_count": null,
   "id": "realistic-inflation",
   "metadata": {},
   "outputs": [],
   "source": [
    "import pandas as pd\n",
    "import numpy as np\n",
    "from funciones import *\n",
    "\n",
    "# Configuracion de display de DataFrames en Jupyter\n",
    "pd.options.display.max_columns = None\n",
    "\n",
    "# Localizacion del .CSV del dataset\n",
    "data_location_raw = './datasets/properatti.csv'\n",
    "\n",
    "# Localizacion del .CSV donde enviaremos los datos limpios\n",
    "data_location_clean = './datasets/properatti_clean.csv'\n",
    "\n",
    "# Tipos de datos a importar como categorias\n",
    "dtypes_cat = {\n",
    "    \"operation\": \"category\",\n",
    "    \"property_type\": \"category\",\n",
    "    \"country_name\": \"category\",\n",
    "    \"state_name\": \"category\",\n",
    "}\n",
    "\n",
    "# Columnas del DataFrame Original\n",
    "dtypes_non_cat_orig = {\n",
    "    \"place_name\": \"str\",\n",
    "    \"description\": \"str\",\n",
    "    \"title\": \"str\",\n",
    "}\n",
    "\n",
    "# Columnas del DataFrame limpio\n",
    "dtypes_non_cat_clean = {\n",
    "    \"price_clean\": \"float\",\n",
    "    \"currency_clean\": \"category\",\n",
    "    \"surface_covered_in_m2_clean\": \"float\",\n",
    "    \"price_per_m2_covered_clean\": \"float\",\n",
    "}\n",
    "\n",
    "# Creamos un nuevo diccionario con todos los elementos\n",
    "dtypes = {}\n",
    "dtypes.update(dtypes_cat)\n",
    "dtypes.update(dtypes_non_cat_orig)\n",
    "dtypes.update(dtypes_non_cat_clean)\n",
    "\n",
    "# Hacemos la importación del dataframe clean\n",
    "raw_data = pd.read_csv(data_location_clean,\n",
    "                       dtype=dtypes,\n",
    "                       usecols=['Unnamed: 0']+list(dtypes_cat) +\n",
    "                               list(dtypes_non_cat_orig) +\n",
    "                               list(dtypes_non_cat_clean),\n",
    "                       index_col=0\n",
    ")\n",
    "\n",
    "# Copiamos el dataframe a otro para tener una copia literal del mismo\n",
    "data = raw_data.copy()\n",
    "\n",
    "# Forma de resetear el index del dataframe si no se usa el index_col=0\n",
    "## data_default.reset_index(drop=True, inplace=True)\n",
    "## data_str.index"
   ]
  },
  {
   "cell_type": "markdown",
   "id": "opened-judgment",
   "metadata": {},
   "source": [
    "Información del DataFrame RAW que hemos importado"
   ]
  },
  {
   "cell_type": "code",
   "execution_count": null,
   "id": "killing-forward",
   "metadata": {},
   "outputs": [],
   "source": [
    "raw_data.info()"
   ]
  },
  {
   "cell_type": "markdown",
   "id": "secondary-interim",
   "metadata": {},
   "source": [
    "Información del DataFrame que vamos a utilizar para nuestro análisis"
   ]
  },
  {
   "cell_type": "code",
   "execution_count": null,
   "id": "english-florist",
   "metadata": {},
   "outputs": [],
   "source": [
    "data.info()"
   ]
  },
  {
   "cell_type": "markdown",
   "id": "reported-desktop",
   "metadata": {},
   "source": [
    "Hacemos una impresion inicial del dataframe"
   ]
  },
  {
   "cell_type": "code",
   "execution_count": null,
   "id": "extraordinary-locking",
   "metadata": {},
   "outputs": [],
   "source": [
    "data.head()"
   ]
  },
  {
   "cell_type": "code",
   "execution_count": null,
   "id": "declared-mississippi",
   "metadata": {},
   "outputs": [],
   "source": []
  },
  {
   "cell_type": "code",
   "execution_count": null,
   "id": "gorgeous-hawaii",
   "metadata": {},
   "outputs": [],
   "source": [
    "missing_zero_values_table(data)"
   ]
  },
  {
   "cell_type": "markdown",
   "id": "respiratory-chorus",
   "metadata": {},
   "source": [
    "### Drop de observaciones con NaN\n",
    "Nos quedaremos unicamente con aquellas observaciones que no tengan datos faltantes."
   ]
  },
  {
   "cell_type": "code",
   "execution_count": null,
   "id": "japanese-ticket",
   "metadata": {},
   "outputs": [],
   "source": [
    "data.dropna(inplace=True)\n",
    "missing_zero_values_table(data)"
   ]
  },
  {
   "cell_type": "markdown",
   "id": "operating-biodiversity",
   "metadata": {},
   "source": [
    "### Unidades geográficas\n",
    "\n",
    "Haremos el agrupamiento por unidades geográficas, las cuales estan en state_name.\n",
    "Primero obtendremos una lista de las unidades geográficas y la cantidad de observaciones "
   ]
  },
  {
   "cell_type": "code",
   "execution_count": null,
   "id": "suffering-fever",
   "metadata": {},
   "outputs": [],
   "source": [
    "list_regiones = data['state_name'].value_counts()\n",
    "print(list_regiones.to_string())"
   ]
  },
  {
   "cell_type": "markdown",
   "id": "premier-ireland",
   "metadata": {},
   "source": [
    "### Análisis para Capital Federal\n",
    "Crearemos una máscara para evaluar las observaciones que son exclusivamente de Capital Federal"
   ]
  },
  {
   "cell_type": "code",
   "execution_count": null,
   "id": "specified-couple",
   "metadata": {},
   "outputs": [],
   "source": [
    "mask_capital_federal = data['state_name'] == 'Capital Federal'\n",
    "print(f\"Observaciones en Capital Federal: {mask_capital_federal.sum()}.\")"
   ]
  },
  {
   "cell_type": "markdown",
   "id": "rising-river",
   "metadata": {},
   "source": [
    "#### Barrios dentro de Capital Federal\n",
    "Obtenemos una lista de barrios oficiales y no oficiales que hay dentro del set de datos"
   ]
  },
  {
   "cell_type": "code",
   "execution_count": null,
   "id": "seasonal-secondary",
   "metadata": {},
   "outputs": [],
   "source": [
    "print(data[mask_capital_federal]['place_name'].value_counts().to_string())"
   ]
  },
  {
   "cell_type": "code",
   "execution_count": null,
   "id": "ideal-humanitarian",
   "metadata": {},
   "outputs": [],
   "source": [
    "listado_barrios = data[mask_capital_federal]['place_name'].unique()\n",
    "listado_barrios = np.sort(listado_barrios)\n",
    "print(f\"Cantidad de Barrios considerados en Capital Federal: {len(listado_barrios)}.\")"
   ]
  },
  {
   "cell_type": "code",
   "execution_count": null,
   "id": "casual-progressive",
   "metadata": {},
   "outputs": [],
   "source": [
    "data['property_type'].unique()"
   ]
  },
  {
   "cell_type": "code",
   "execution_count": null,
   "id": "seeing-scanner",
   "metadata": {},
   "outputs": [],
   "source": [
    "# Verificamos que nos de el valor de un barrio\n",
    "listado_barrios[0]"
   ]
  },
  {
   "cell_type": "code",
   "execution_count": null,
   "id": "structured-blond",
   "metadata": {},
   "outputs": [],
   "source": [
    "x_data = data.loc[mask_capital_federal & (data['place_name'] == listado_barrios[0]),'price_per_m2_covered_clean'].values\n",
    "x_data"
   ]
  },
  {
   "cell_type": "markdown",
   "id": "domestic-basic",
   "metadata": {},
   "source": [
    "### Gráfica de Boxplot para detección de outliers por barrio"
   ]
  },
  {
   "cell_type": "code",
   "execution_count": null,
   "id": "fitted-minimum",
   "metadata": {},
   "outputs": [],
   "source": [
    "# Seleccion del barrio a graficar por indice\n",
    "barrio_index = 4\n",
    "\n",
    "y_data = ['PH', 'Apartment', 'House', 'Store']\n",
    "\n",
    "x0 = data.loc[mask_capital_federal & (data['place_name'] == listado_barrios[barrio_index]) & (data['property_type'] == 'PH'),'price_per_m2_covered_clean'].values\n",
    "x1 = data.loc[mask_capital_federal & (data['place_name'] == listado_barrios[barrio_index]) & (data['property_type'] == 'apartment'),'price_per_m2_covered_clean'].values\n",
    "x2 = data.loc[mask_capital_federal & (data['place_name'] == listado_barrios[barrio_index]) & (data['property_type'] == 'house'),'price_per_m2_covered_clean'].values\n",
    "x3 = data.loc[mask_capital_federal & (data['place_name'] == listado_barrios[barrio_index]) & (data['property_type'] == 'store'),'price_per_m2_covered_clean'].values\n",
    "\n",
    "x_data = [x0, x1, x2, x3]\n",
    "\n",
    "colors = ['rgba(93, 164, 214, 0.5)', 'rgba(255, 144, 14, 0.5)', 'rgba(44, 160, 101, 0.5)',\n",
    "          'rgba(255, 65, 54, 0.5)']\n",
    "\n",
    "import plotly.graph_objects as go\n",
    "\n",
    "fig = go.Figure()\n",
    "\n",
    "for xd, yd, cls in zip(x_data, y_data, colors):\n",
    "        fig.add_trace(go.Box(\n",
    "            x=xd,\n",
    "            name=yd,\n",
    "            boxpoints='suspectedoutliers',\n",
    "            jitter=0.5,\n",
    "            pointpos=0,\n",
    "            fillcolor=cls,\n",
    "            whiskerwidth=0.7,\n",
    "            line_width=1)\n",
    "        )\n",
    "\n",
    "\n",
    "fig.update_yaxes(type='category')\n",
    "\n",
    "\n",
    "fig.update_layout(\n",
    "    title=\n",
    "    f'<b>Boxplot por tipo de propiedad</b>'+\n",
    "    f'<br>{listado_barrios[barrio_index]}',\n",
    "    #title=f\"Boxplot por tipo de propiedad: {listado_barrios[barrio_index]}\",\n",
    "    #subtitle=\"By Class of Car\",\n",
    "    xaxis=dict(\n",
    "        title='Precio por metro<sup>2</sup> cubierto (<b>USD</b>)',\n",
    "        autorange=True,\n",
    "        showgrid=True,\n",
    "        zeroline=False,\n",
    "        ticks=\"outside\",\n",
    "        gridwidth=0.5\n",
    "#        nticks=15\n",
    "    ),\n",
    "    margin=dict(\n",
    "        l=40,\n",
    "        r=30,\n",
    "        b=80,\n",
    "        t=100,\n",
    "    ),\n",
    "    paper_bgcolor='rgb(243, 243, 243)',\n",
    "    plot_bgcolor='rgb(243, 243, 243)',\n",
    "    showlegend=True,\n",
    "    #hovermode='x unified'\n",
    ")\n",
    "\n",
    "fig.update_traces(hovertemplate=\"Precio: %{x:.0f} / m<sup>2</sup>\")\n",
    "fig.show()\n",
    "\n",
    "fig.write_image(\"images/fig1.svg\")\n"
   ]
  },
  {
   "cell_type": "code",
   "execution_count": null,
   "id": "unlimited-aviation",
   "metadata": {},
   "outputs": [],
   "source": []
  },
  {
   "cell_type": "code",
   "execution_count": null,
   "id": "intended-brown",
   "metadata": {},
   "outputs": [],
   "source": []
  },
  {
   "cell_type": "code",
   "execution_count": null,
   "id": "indonesian-effect",
   "metadata": {},
   "outputs": [],
   "source": []
  },
  {
   "cell_type": "code",
   "execution_count": null,
   "id": "talented-stewart",
   "metadata": {},
   "outputs": [],
   "source": []
  },
  {
   "cell_type": "code",
   "execution_count": null,
   "id": "canadian-enlargement",
   "metadata": {},
   "outputs": [],
   "source": []
  }
 ],
 "metadata": {
  "kernelspec": {
   "display_name": "Python [conda env:dhdsblend2021] *",
   "language": "python",
   "name": "conda-env-dhdsblend2021-py"
  },
  "language_info": {
   "codemirror_mode": {
    "name": "ipython",
    "version": 3
   },
   "file_extension": ".py",
   "mimetype": "text/x-python",
   "name": "python",
   "nbconvert_exporter": "python",
   "pygments_lexer": "ipython3",
   "version": "3.8.5"
  }
 },
 "nbformat": 4,
 "nbformat_minor": 5
}
