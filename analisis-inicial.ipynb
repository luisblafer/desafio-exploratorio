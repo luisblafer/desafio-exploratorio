{
 "cells": [
  {
   "cell_type": "code",
   "execution_count": null,
   "id": "affected-reservoir",
   "metadata": {},
   "outputs": [],
   "source": [
    "import pandas as pd\n",
    "import numpy as np\n",
    "from funciones import *\n",
    "\n",
    "# Configuracion de display de DataFrames en Jupyter\n",
    "pd.options.display.max_columns = None\n",
    "\n",
    "# Localizacion del .CSV del dataset\n",
    "data_location_raw = './datasets/properatti.csv'\n",
    "\n",
    "# Localizacion del .CSV donde enviaremos los datos limpios\n",
    "data_location_clean = './datasets/properatti_clean.csv'\n",
    "\n",
    "# Hacemos la importación del dataframe clean\n",
    "raw_data = pd.read_csv(data_location_raw, index_col=0)\n",
    "\n",
    "# Copiamos el dataframe a otro para tener una copia literal del mismo\n",
    "data = raw_data.copy()\n",
    "\n",
    "# Forma de resetear el index del dataframe si no se usa el index_col=0\n",
    "## data_default.reset_index(drop=True, inplace=True)\n",
    "## data_str.index"
   ]
  },
  {
   "cell_type": "markdown",
   "id": "apparent-worship",
   "metadata": {},
   "source": [
    "Información del DataFrame RAW que hemos importado"
   ]
  },
  {
   "cell_type": "code",
   "execution_count": null,
   "id": "compound-curve",
   "metadata": {},
   "outputs": [],
   "source": [
    "raw_data.info()"
   ]
  },
  {
   "cell_type": "markdown",
   "id": "colored-brazilian",
   "metadata": {},
   "source": [
    "Información del DataFrame que vamos a utilizar para nuestro análisis"
   ]
  },
  {
   "cell_type": "code",
   "execution_count": null,
   "id": "vocal-audit",
   "metadata": {},
   "outputs": [],
   "source": [
    "data.info()"
   ]
  },
  {
   "cell_type": "markdown",
   "id": "decimal-crowd",
   "metadata": {},
   "source": [
    "Dataset\n",
    "\n",
    "#Completar con nombre de campo y tipo de dato"
   ]
  },
  {
   "cell_type": "markdown",
   "id": "visible-skating",
   "metadata": {},
   "source": [
    "### Sumario inicial de datos faltantes"
   ]
  },
  {
   "cell_type": "code",
   "execution_count": null,
   "id": "hydraulic-deviation",
   "metadata": {},
   "outputs": [],
   "source": [
    "missing_zero_values_table(data)"
   ]
  },
  {
   "cell_type": "code",
   "execution_count": null,
   "id": "sufficient-integral",
   "metadata": {},
   "outputs": [],
   "source": [
    "data.head(10)"
   ]
  },
  {
   "cell_type": "code",
   "execution_count": null,
   "id": "linear-nickname",
   "metadata": {},
   "outputs": [],
   "source": []
  },
  {
   "cell_type": "markdown",
   "id": "environmental-shame",
   "metadata": {},
   "source": [
    "### Análisis del campo _description_"
   ]
  },
  {
   "cell_type": "code",
   "execution_count": null,
   "id": "enclosed-eclipse",
   "metadata": {},
   "outputs": [],
   "source": [
    "mask_description_isnull = data['description'].isnull()\n",
    "\n",
    "print(f\"Cantidad de observaciones sin descripción: {mask_description_isnull.sum()}\")\n",
    "\n",
    "data.loc[mask_description_isnull, 'description'] = '-'\n",
    "\n",
    "missing_zero_values_table(data)"
   ]
  },
  {
   "cell_type": "code",
   "execution_count": null,
   "id": "unlikely-hobby",
   "metadata": {},
   "outputs": [],
   "source": [
    "data.head(10)"
   ]
  },
  {
   "cell_type": "markdown",
   "id": "subject-shuttle",
   "metadata": {},
   "source": [
    "### Análisis de la variable _operation_"
   ]
  },
  {
   "cell_type": "code",
   "execution_count": null,
   "id": "blocked-remains",
   "metadata": {},
   "outputs": [],
   "source": [
    "data['operation'].value_counts()"
   ]
  },
  {
   "cell_type": "markdown",
   "id": "reported-rough",
   "metadata": {},
   "source": [
    "Todas las propiedades son para la venta, lo cual representa una categoría única."
   ]
  },
  {
   "cell_type": "code",
   "execution_count": null,
   "id": "handled-helmet",
   "metadata": {},
   "outputs": [],
   "source": [
    "data['operation'] = data['operation'].astype('category')\n",
    "data['operation'].dtype"
   ]
  },
  {
   "cell_type": "markdown",
   "id": "moderate-engineer",
   "metadata": {},
   "source": [
    "### Análisis de la variable _property_type_"
   ]
  },
  {
   "cell_type": "code",
   "execution_count": null,
   "id": "julian-uruguay",
   "metadata": {},
   "outputs": [],
   "source": [
    "data['property_type'].value_counts()"
   ]
  },
  {
   "cell_type": "markdown",
   "id": "younger-wholesale",
   "metadata": {},
   "source": [
    "Observamos que tiene tiene cuatro posibles opciones por lo cual la cambiamos a categórica."
   ]
  },
  {
   "cell_type": "code",
   "execution_count": null,
   "id": "unlimited-organization",
   "metadata": {},
   "outputs": [],
   "source": [
    "data['property_type'] = data['property_type'].astype('category')\n",
    "data['property_type'].dtype"
   ]
  },
  {
   "cell_type": "markdown",
   "id": "logical-courage",
   "metadata": {},
   "source": [
    "### Análisis de la variable _place_name_"
   ]
  },
  {
   "cell_type": "code",
   "execution_count": null,
   "id": "healthy-gauge",
   "metadata": {},
   "outputs": [],
   "source": [
    "data['place_name'].value_counts()"
   ]
  },
  {
   "cell_type": "markdown",
   "id": "separated-liabilities",
   "metadata": {},
   "source": [
    "Haciendo un análisis de las 23 observaciones que no tienen 'place_name', observamos que las mismas pertenecen al barrio de Rincón de Mimberg, y hay observaciones que tienen las mismas características para descripciones similares. Sumado a que geográficamente las descripciones apuntan a que se encuentran en barrios cerrados ó courtries en dicha ubicación."
   ]
  },
  {
   "cell_type": "code",
   "execution_count": null,
   "id": "convenient-springfield",
   "metadata": {},
   "outputs": [],
   "source": [
    "mask_data_place_name_isnull = data['place_name'].isnull()\n",
    "data_place_name_null = data.loc[mask_data_place_name_isnull]\n",
    "data_place_name_null.head(5)"
   ]
  },
  {
   "cell_type": "code",
   "execution_count": null,
   "id": "interracial-health",
   "metadata": {},
   "outputs": [],
   "source": [
    "data[data['place_name'].str.contains('Rincón de Milberg',na=False)].head(5)"
   ]
  },
  {
   "cell_type": "markdown",
   "id": "central-working",
   "metadata": {},
   "source": [
    "Por este motivo imputamos a los datos faltantes con Rincón de Milberg, ajustando al mismo tiempo el campo place_with_parent_names para que sea consistente con la información del dataset."
   ]
  },
  {
   "cell_type": "code",
   "execution_count": null,
   "id": "clear-reservoir",
   "metadata": {},
   "outputs": [],
   "source": [
    "#data['place_name_check'] = data['place_name']\n",
    "#data['place_with_parent_names_check'] = data['place_with_parent_names']\n",
    "\n",
    "data.loc[mask_data_place_name_isnull,['place_name','place_with_parent_names']] = \\\n",
    "    ['Rincón de Milberg','|Argentina|Bs.As. G.B.A. Zona Norte|Tigre|Rincón de Milberg|']\n",
    "data.head(5)"
   ]
  },
  {
   "cell_type": "markdown",
   "id": "british-maker",
   "metadata": {},
   "source": [
    "Detectamos que existe un place_name que está cargado con coordenadas en lugar de nombre"
   ]
  },
  {
   "cell_type": "code",
   "execution_count": null,
   "id": "median-briefing",
   "metadata": {},
   "outputs": [],
   "source": [
    "data[data['place_name'].str.contains('coor',na=False)]"
   ]
  },
  {
   "cell_type": "markdown",
   "id": "level-impossible",
   "metadata": {},
   "source": [
    "Observando en Google Maps vemos que también es el barrio Rincon de Milberg, con lo cual volvemos a ejecutar la operación anterior, pero con esta nueva máscara."
   ]
  },
  {
   "cell_type": "code",
   "execution_count": null,
   "id": "vanilla-rhythm",
   "metadata": {},
   "outputs": [],
   "source": [
    "data.loc[data['place_name'].str.contains('coor',na=False),['place_name','place_with_parent_names']] = \\\n",
    "    ['Rincón de Milberg','|Argentina|Bs.As. G.B.A. Zona Norte|Tigre|Rincón de Milberg|']\n",
    "data"
   ]
  },
  {
   "cell_type": "markdown",
   "id": "abroad-witch",
   "metadata": {},
   "source": [
    "### Análisis de la variable _country_name_"
   ]
  },
  {
   "cell_type": "code",
   "execution_count": null,
   "id": "accepting-academy",
   "metadata": {},
   "outputs": [],
   "source": [
    "data['country_name'].value_counts()"
   ]
  },
  {
   "cell_type": "markdown",
   "id": "reasonable-montgomery",
   "metadata": {},
   "source": [
    "No es necesario realizar ningún tipo de ajuste en esta variable. Vemos que todas las propiedades son en Argentina."
   ]
  },
  {
   "cell_type": "markdown",
   "id": "compliant-dining",
   "metadata": {},
   "source": [
    "### Análisis de la variable _state_name_"
   ]
  },
  {
   "cell_type": "code",
   "execution_count": null,
   "id": "underlying-rebate",
   "metadata": {},
   "outputs": [],
   "source": [
    "data['state_name'].value_counts()"
   ]
  },
  {
   "cell_type": "markdown",
   "id": "initial-football",
   "metadata": {},
   "source": [
    "No es necesario realizar ningún tipo de ajuste en esta variable. Observamos que la provinicia de Buenos Aires ha sido dividida en regiones geográficas, a diferencia del resto de las provincias."
   ]
  },
  {
   "cell_type": "code",
   "execution_count": null,
   "id": "opposite-bouquet",
   "metadata": {},
   "outputs": [],
   "source": [
    "missing_zero_values_table(data)"
   ]
  },
  {
   "cell_type": "markdown",
   "id": "mounted-speaking",
   "metadata": {},
   "source": [
    "### Exportación de datos limpios"
   ]
  },
  {
   "cell_type": "code",
   "execution_count": null,
   "id": "completed-relief",
   "metadata": {},
   "outputs": [],
   "source": [
    "data.to_csv(data_location_clean)"
   ]
  }
 ],
 "metadata": {
  "kernelspec": {
   "display_name": "Python [conda env:dhdsblend2021] *",
   "language": "python",
   "name": "conda-env-dhdsblend2021-py"
  },
  "language_info": {
   "codemirror_mode": {
    "name": "ipython",
    "version": 3
   },
   "file_extension": ".py",
   "mimetype": "text/x-python",
   "name": "python",
   "nbconvert_exporter": "python",
   "pygments_lexer": "ipython3",
   "version": "3.8.5"
  }
 },
 "nbformat": 4,
 "nbformat_minor": 5
}
